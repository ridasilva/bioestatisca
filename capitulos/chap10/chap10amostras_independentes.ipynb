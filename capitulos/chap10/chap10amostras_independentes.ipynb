{
  "nbformat": 4,
  "nbformat_minor": 0,
  "metadata": {
    "colab": {
      "provenance": []
    },
    "kernelspec": {
      "name": "python3",
      "display_name": "Python 3"
    },
    "language_info": {
      "name": "python"
    }
  },
  "cells": [
    {
      "cell_type": "markdown",
      "metadata": {
        "id": "P4vMNqO3iTuE"
      },
      "source": [
        "### Este notebook exemplo utiliza [markdown](https://github.com/adam-p/markdown-here/wiki/Markdown-Cheatsheet) para formatação do texto, e [LaTeX](https://en.wikibooks.org/wiki/LaTeX/Mathematics) para criação de fórmulas matemáticas."
      ]
    },
    {
      "cell_type": "markdown",
      "metadata": {
        "id": "7KMKEdYRZB19"
      },
      "source": [
        "**9.7** - Digitadores são treinados em uma empresa em duas turmas\n",
        "distintas. Na primeira, denominada Turma J, utiliza-se um método\n",
        "japonês de ensino, ao passo que na segunda turma, denominada\n",
        "Turma A, utiliza-se um método alemão. Dezesseis (16) alunos de\n",
        "cada turma foram escolhidos aleatoriamente e uma mesma tarefa\n",
        "foi atribuída a cada uma. Apesar de desconhecida as variâncias\n",
        "populacionais são consideradas iguais com base em estudos\n",
        "anteriores. Os métodos diferem quanto ao tempo de execução da\n",
        "tarefa? Conclua com $\\alpha = 0.01$."
      ]
    },
    {
      "cell_type": "markdown",
      "metadata": {
        "id": "1n3Lle3zc4vm"
      },
      "source": [
        "**1** - Estabelecer as hipóóteses nula e alternativa:\n",
        "\n",
        "$H_0: \\mu_x = \\mu_y$\n",
        "\n",
        "$H_a: \\mu_x \\neq \\mu_y$\n",
        "\n",
        "$\\bar{D} = \\bar{X} - \\bar{Y}$"
      ]
    },
    {
      "cell_type": "code",
      "metadata": {
        "id": "2OP4tI1dc4vq"
      },
      "source": [
        "import numpy as np\n",
        "\n",
        "# turma j\n",
        "x = np.array([10, 13, 9, 10, 14, 13, 10, 15, 12, 10, 9, 10, 13, 14])\n",
        "# turma a\n",
        "y = np.array([15, 12, 18, 16, 15, 17, 17, 15, 16, 17, 11, 17, 14])"
      ],
      "execution_count": null,
      "outputs": []
    },
    {
      "cell_type": "code",
      "metadata": {
        "colab": {
          "base_uri": "https://localhost:8080/"
        },
        "id": "jsY1etwFc4vt",
        "outputId": "fac8a898-e210-4cd6-cad9-f80d088622a0"
      },
      "source": [
        "y"
      ],
      "execution_count": null,
      "outputs": [
        {
          "output_type": "execute_result",
          "data": {
            "text/plain": [
              "array([15, 12, 18, 16, 15, 17, 17, 15, 16, 17, 11, 17, 14])"
            ]
          },
          "metadata": {
            "tags": []
          },
          "execution_count": 2
        }
      ]
    },
    {
      "cell_type": "code",
      "metadata": {
        "colab": {
          "base_uri": "https://localhost:8080/"
        },
        "id": "QQM1ESMtc4vv",
        "outputId": "99323f4e-761e-4517-c6ff-e3f4741528e4"
      },
      "source": [
        "x"
      ],
      "execution_count": null,
      "outputs": [
        {
          "output_type": "execute_result",
          "data": {
            "text/plain": [
              "array([10, 13,  9, 10, 14, 13, 10, 15, 12, 10,  9, 10, 13, 14])"
            ]
          },
          "metadata": {
            "tags": []
          },
          "execution_count": 3
        }
      ]
    },
    {
      "cell_type": "code",
      "metadata": {
        "colab": {
          "base_uri": "https://localhost:8080/"
        },
        "id": "9bte2pPZc4vx",
        "outputId": "bac8576a-2d27-413d-95fc-c59e29dcaafb"
      },
      "source": [
        "x.mean()"
      ],
      "execution_count": null,
      "outputs": [
        {
          "output_type": "execute_result",
          "data": {
            "text/plain": [
              "11.571428571428571"
            ]
          },
          "metadata": {
            "tags": []
          },
          "execution_count": 4
        }
      ]
    },
    {
      "cell_type": "code",
      "metadata": {
        "colab": {
          "base_uri": "https://localhost:8080/"
        },
        "id": "Shzh6gEsc4vy",
        "outputId": "8ab4f7ea-8293-4343-e381-eb0e79ebe5cf"
      },
      "source": [
        "x.std()"
      ],
      "execution_count": null,
      "outputs": [
        {
          "output_type": "execute_result",
          "data": {
            "text/plain": [
              "1.9897697538834456"
            ]
          },
          "metadata": {
            "tags": []
          },
          "execution_count": 5
        }
      ]
    },
    {
      "cell_type": "code",
      "metadata": {
        "colab": {
          "base_uri": "https://localhost:8080/"
        },
        "id": "emigmtT9c4vz",
        "outputId": "122b6a27-e3b7-4b7b-cc2a-587a565b837f"
      },
      "source": [
        "x-x.mean()"
      ],
      "execution_count": null,
      "outputs": [
        {
          "output_type": "execute_result",
          "data": {
            "text/plain": [
              "array([-1.57142857,  1.42857143, -2.57142857, -1.57142857,  2.42857143,\n",
              "        1.42857143, -1.57142857,  3.42857143,  0.42857143, -1.57142857,\n",
              "       -2.57142857, -1.57142857,  1.42857143,  2.42857143])"
            ]
          },
          "metadata": {
            "tags": []
          },
          "execution_count": 6
        }
      ]
    },
    {
      "cell_type": "code",
      "metadata": {
        "colab": {
          "base_uri": "https://localhost:8080/"
        },
        "id": "xqlq8rnSc4v0",
        "outputId": "4bd90984-282f-4137-c1f6-da87eb5dff04"
      },
      "source": [
        "(x-x.mean())**2"
      ],
      "execution_count": null,
      "outputs": [
        {
          "output_type": "execute_result",
          "data": {
            "text/plain": [
              "array([ 2.46938776,  2.04081633,  6.6122449 ,  2.46938776,  5.89795918,\n",
              "        2.04081633,  2.46938776, 11.75510204,  0.18367347,  2.46938776,\n",
              "        6.6122449 ,  2.46938776,  2.04081633,  5.89795918])"
            ]
          },
          "metadata": {
            "tags": []
          },
          "execution_count": 7
        }
      ]
    },
    {
      "cell_type": "code",
      "metadata": {
        "colab": {
          "base_uri": "https://localhost:8080/"
        },
        "id": "DfjfJHqpc4v0",
        "outputId": "a287a332-d0c7-4992-9818-ad0d6bbb2623"
      },
      "source": [
        "sum((x-x.mean())**2)"
      ],
      "execution_count": null,
      "outputs": [
        {
          "output_type": "execute_result",
          "data": {
            "text/plain": [
              "55.42857142857142"
            ]
          },
          "metadata": {
            "tags": []
          },
          "execution_count": 8
        }
      ]
    },
    {
      "cell_type": "code",
      "metadata": {
        "colab": {
          "base_uri": "https://localhost:8080/"
        },
        "id": "Uoa336GWc4v1",
        "outputId": "dd4c4fce-6e85-475f-f3ae-3cd1784f61c0"
      },
      "source": [
        "sum((x-x.mean())**2)/(len(x)-1)"
      ],
      "execution_count": null,
      "outputs": [
        {
          "output_type": "execute_result",
          "data": {
            "text/plain": [
              "4.263736263736264"
            ]
          },
          "metadata": {
            "tags": []
          },
          "execution_count": 10
        }
      ]
    },
    {
      "cell_type": "code",
      "metadata": {
        "colab": {
          "base_uri": "https://localhost:8080/"
        },
        "id": "J7KmsJS1c4v2",
        "outputId": "0c8c2248-0b17-4f2a-fd38-0f726ef4a62b"
      },
      "source": [
        "np.sqrt(sum((x-x.mean())**2)/(len(x)-1))"
      ],
      "execution_count": null,
      "outputs": [
        {
          "output_type": "execute_result",
          "data": {
            "text/plain": [
              "2.064881658530644"
            ]
          },
          "metadata": {
            "tags": []
          },
          "execution_count": 11
        }
      ]
    },
    {
      "cell_type": "code",
      "metadata": {
        "colab": {
          "base_uri": "https://localhost:8080/"
        },
        "id": "hQwFWWpFc4v3",
        "outputId": "1534ccf1-ebad-4b2f-83f5-e44e792b2a22"
      },
      "source": [
        "np.sqrt(sum((x-x.mean())**2)/len(x))"
      ],
      "execution_count": null,
      "outputs": [
        {
          "output_type": "execute_result",
          "data": {
            "text/plain": [
              "1.9897697538834456"
            ]
          },
          "metadata": {
            "tags": []
          },
          "execution_count": 12
        }
      ]
    },
    {
      "cell_type": "code",
      "metadata": {
        "id": "Zpj0VOjoc4v4"
      },
      "source": [
        "import matplotlib.pyplot as plt"
      ],
      "execution_count": null,
      "outputs": []
    },
    {
      "cell_type": "code",
      "metadata": {
        "colab": {
          "base_uri": "https://localhost:8080/",
          "height": 372
        },
        "id": "6957Qk7Zc4v4",
        "outputId": "663f97f4-93d3-44e9-d853-5c7d2a777555"
      },
      "source": [
        "plt.boxplot([x, y])\n",
        "plt.xticks([1, 2], ['J', 'A'])"
      ],
      "execution_count": null,
      "outputs": [
        {
          "output_type": "stream",
          "text": [
            "/usr/local/lib/python3.7/dist-packages/numpy/core/_asarray.py:83: VisibleDeprecationWarning: Creating an ndarray from ragged nested sequences (which is a list-or-tuple of lists-or-tuples-or ndarrays with different lengths or shapes) is deprecated. If you meant to do this, you must specify 'dtype=object' when creating the ndarray\n",
            "  return array(a, dtype, copy=False, order=order)\n"
          ],
          "name": "stderr"
        },
        {
          "output_type": "execute_result",
          "data": {
            "text/plain": [
              "([<matplotlib.axis.XTick at 0x7f49acf6a9d0>,\n",
              "  <matplotlib.axis.XTick at 0x7f49acf6a690>],\n",
              " [Text(0, 0, 'J'), Text(0, 0, 'A')])"
            ]
          },
          "metadata": {
            "tags": []
          },
          "execution_count": 14
        },
        {
          "output_type": "display_data",
          "data": {
            "image/png": "[encoded data removed]",
            "text/plain": [
              "<Figure size 432x288 with 1 Axes>"
            ]
          },
          "metadata": {
            "tags": [],
            "needs_background": "light"
          }
        }
      ]
    },
    {
      "cell_type": "markdown",
      "metadata": {
        "id": "oewWXnzgc4v5"
      },
      "source": [
        "**2** - Definir a forma da região crítica, com base na hipótese alternativa.\n",
        "\n",
        "$RC = \\{ t \\in R \\mid t < -t_c \\quad ou \\quad t > t_c\\}$"
      ]
    },
    {
      "cell_type": "markdown",
      "metadata": {
        "id": "QCOfxWmMc4v5"
      },
      "source": [
        "**3** - Identificar a distribuição do estimador e obter sua estimativa."
      ]
    },
    {
      "cell_type": "code",
      "metadata": {
        "colab": {
          "base_uri": "https://localhost:8080/"
        },
        "id": "qFjhTucYfEWc",
        "outputId": "f49a9bb9-f969-485a-9e85-48286c759620"
      },
      "source": [
        "n_x = len(x)\n",
        "n_y = len(y)\n",
        "print(\"n_x:\", n_x, \"n_y:\", n_y)"
      ],
      "execution_count": null,
      "outputs": [
        {
          "output_type": "stream",
          "text": [
            "n_x: 14 n_y: 13\n"
          ],
          "name": "stdout"
        }
      ]
    },
    {
      "cell_type": "code",
      "metadata": {
        "colab": {
          "base_uri": "https://localhost:8080/"
        },
        "id": "Izwkb6pJc4v6",
        "outputId": "3af4fd9f-212b-4780-8924-02e2b7de7047"
      },
      "source": [
        "d_obs = x.mean()-y.mean()\n",
        "s2x = sum((x-x.mean())**2)/(len(x)-1)\n",
        "s2y = sum((y-y.mean())**2)/(len(y)-1)\n",
        "\n",
        "s2c_obs = ((n_x-1)*s2x+(n_y-1)*s2y)/((n_x-1)+(n_y-1))\n",
        "\n",
        "print(\"Média:\", d_obs)\n",
        "print(\"Variância comum:\", s2c_obs)"
      ],
      "execution_count": null,
      "outputs": [
        {
          "output_type": "stream",
          "text": [
            "Média: -3.813186813186814\n",
            "Variância comum: 4.2602197802197805\n"
          ],
          "name": "stdout"
        }
      ]
    },
    {
      "cell_type": "markdown",
      "metadata": {
        "id": "Gv_9faqFc4v7"
      },
      "source": [
        "**4** - Fixar o $\\alpha$ e obter a região críítica.\n",
        "\n",
        "$t_{n_x-1+n_y-1} = t_{25}$\n",
        "\n",
        "$t_{obs} = \\frac{\\bar{d}_{obs}-\\mu_D}{\\sqrt{S^2_{c_{obs}} \\times (1/n_x+1/n_y)}}$"
      ]
    },
    {
      "cell_type": "code",
      "metadata": {
        "colab": {
          "base_uri": "https://localhost:8080/"
        },
        "id": "jQTN6uq0c4v8",
        "outputId": "4a4eb339-39d5-4ee6-f413-7749c5e6ee90"
      },
      "source": [
        "t_obs = (d_obs-0)/np.sqrt(s2c_obs*(1/n_x+1/n_y))\n",
        "print(\"t observado:\", t_obs)"
      ],
      "execution_count": null,
      "outputs": [
        {
          "output_type": "stream",
          "text": [
            "t observado: -4.796515940785071\n"
          ],
          "name": "stdout"
        }
      ]
    },
    {
      "cell_type": "markdown",
      "metadata": {
        "id": "bt-We-nPc4v9"
      },
      "source": [
        "**5** - Concluir o teste com base na estimativa e na região crítica."
      ]
    },
    {
      "cell_type": "code",
      "metadata": {
        "id": "-OqKs9owc4v9"
      },
      "source": [
        "from scipy import stats"
      ],
      "execution_count": null,
      "outputs": []
    },
    {
      "cell_type": "code",
      "metadata": {
        "id": "y-l-Ozaec4v-"
      },
      "source": [
        "# https://docs.scipy.org/doc/scipy/reference/generated/scipy.stats.t.html\n",
        "tdist = stats.t(25)"
      ],
      "execution_count": null,
      "outputs": []
    },
    {
      "cell_type": "code",
      "metadata": {
        "colab": {
          "base_uri": "https://localhost:8080/"
        },
        "id": "qNfck9Njc4v-",
        "outputId": "09f793e5-dc1d-4e61-ba7c-3d0f41016e7f"
      },
      "source": [
        "tdist.ppf(0.995)"
      ],
      "execution_count": null,
      "outputs": [
        {
          "output_type": "execute_result",
          "data": {
            "text/plain": [
              "2.787435813675851"
            ]
          },
          "metadata": {
            "tags": []
          },
          "execution_count": 20
        }
      ]
    },
    {
      "cell_type": "code",
      "metadata": {
        "colab": {
          "base_uri": "https://localhost:8080/"
        },
        "id": "QP5VkfFbc4v_",
        "outputId": "082622c7-46b8-47ab-f4dd-732128468895"
      },
      "source": [
        "# Calcular o t-test apropriado pela biblioteca scipy\n",
        "stats.ttest_ind(x, y)"
      ],
      "execution_count": null,
      "outputs": [
        {
          "output_type": "execute_result",
          "data": {
            "text/plain": [
              "Ttest_indResult(statistic=-4.796515940785071, pvalue=6.313275155202227e-05)"
            ]
          },
          "metadata": {
            "tags": []
          },
          "execution_count": 21
        }
      ]
    },
    {
      "cell_type": "code",
      "metadata": {
        "colab": {
          "base_uri": "https://localhost:8080/"
        },
        "id": "Xk6Olv72g3zw",
        "outputId": "7025b377-29ba-4f25-97f0-76bcf8409169"
      },
      "source": [
        "stats.ttest_ind(y, x)"
      ],
      "execution_count": null,
      "outputs": [
        {
          "output_type": "execute_result",
          "data": {
            "text/plain": [
              "Ttest_indResult(statistic=4.796515940785071, pvalue=6.313275155202227e-05)"
            ]
          },
          "metadata": {
            "tags": []
          },
          "execution_count": 22
        }
      ]
    },
    {
      "cell_type": "code",
      "metadata": {
        "colab": {
          "base_uri": "https://localhost:8080/"
        },
        "id": "-6XuVL7fc4wA",
        "outputId": "d0ab9760-2f20-489a-941c-80c2f596c18d"
      },
      "source": [
        "print('pvalue=', 2*tdist.cdf(t_obs))"
      ],
      "execution_count": null,
      "outputs": [
        {
          "output_type": "stream",
          "text": [
            "pvalue= 6.313275155202227e-05\n"
          ],
          "name": "stdout"
        }
      ]
    },
    {
      "cell_type": "code",
      "metadata": {
        "colab": {
          "base_uri": "https://localhost:8080/"
        },
        "id": "IVrDNyRyc4wA",
        "outputId": "99990fa3-f9b4-441a-a898-60aacaa54393"
      },
      "source": [
        "stats.ttest_rel(y, x)[1]/2"
      ],
      "execution_count": null,
      "outputs": [
        {
          "output_type": "execute_result",
          "data": {
            "text/plain": [
              "2.0973016297226766e-05"
            ]
          },
          "metadata": {
            "tags": []
          },
          "execution_count": 41
        }
      ]
    }
  ]
}