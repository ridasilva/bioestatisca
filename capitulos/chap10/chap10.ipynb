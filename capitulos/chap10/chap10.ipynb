{
 "cells": [
  {
   "cell_type": "markdown",
   "id": "bdeff810-b811-41f2-8b7b-18f97f69e53f",
   "metadata": {},
   "source": [
    "# 10 - Teste t de amostras independentes"
   ]
  },
  {
   "cell_type": "markdown",
   "id": "a8e42c53-fff3-4edb-b101-7cef444c7879",
   "metadata": {},
   "source": [
    "Este material foi traduzido e adaptado de {cite}`carlson2017introduction`.\n",
    "\n",
    "OBJETIVOS DE APRENDIZADO\n",
    "\n",
    "Depois de ler este capítulo, você será capaz de fazer o seguinte:\n",
    "\n",
    "- Explicar quando usar um teste t de amostras independentes;\n",
    "- Explicar a lógica do teste t de amostras independentes;\n",
    "- Escrever hipóteses nulas e de pesquisa usando símbolos e palavras para testes unicaudais e bicaudais;\n",
    "- Calcular graus de liberdade e definir uma região crítica para testes unicaudais e bicaudais;\n",
    "- Calcular amostras independentes t usando software;\n",
    "- Calcular e interpretar um tamanho de efeito (d);\n",
    "- Resumir os resultados da análise."
   ]
  },
  {
   "cell_type": "markdown",
   "id": "9b572c4b-e318-47c6-a108-925e67cf9afa",
   "metadata": {},
   "source": [
    "## Teste t para amostras independentes"
   ]
  },
  {
   "cell_type": "markdown",
   "id": "7d4782b0-96b7-4dc0-ad0a-fb548751f45b",
   "metadata": {},
   "source": [
    "Até agora, você aprendeu a usar dois testes t diferentes: o t de amostra única e o t de amostras relacionadas. Você deve usar o t de amostra única sempre que quiser comparar uma média amostral com uma média populacional (ou um valor de interesse teórico), mas não souber o desvio padrão da população. Você deve usar o teste t de amostras relacionadas ao comparar as médias amostrais dos mesmos indivíduos medidos em dois momentos diferentes ou de pares de pessoas pareadas medidas sob condições diferentes. Quando você precisar comparar duas médias amostrais que não estão relacionadas, você deve usar um terceiro teste t : um teste t de amostras independentes.\n",
    "\n",
    "Um exemplo pode ajudar a ilustrar a diferença entre esses três testes t. Suponha que você esteja interessado no efeito de um medicamento na perda de peso. Para testar a eficácia deste medicamento, você poderia administrá-lo a uma amostra de pessoas e, depois de tomarem o medicamento por 1 mês, comparar a média de quilos perdidos pela amostra com zero quilos. Nesse caso, você usaria um t de amostra única. No entanto, se você mediu o peso médio da amostra antes de tomar o medicamento e novamente um mês depois de tomar o medicamento, você usaria um t de amostras relacionado. Finalmente, você também pode dar o medicamento a uma amostra de pessoas e um placebo a outra amostra. Depois que ambas as amostras tivessem tomado seus respectivos \"medicamentos\" durante 1 mês, você poderia comparar a perda média de peso das duas amostras. Nesta opção final, você usaria um teste t de amostras independentes porque as duas amostras contêm pessoas diferentes e incomparáveis.\n",
    "\n",
    "O teste t independente utiliza duas amostras da população para representar duas condições diferentes. Como no exemplo anterior, acontece frequentemente que uma amostra se destina a representar como seria a população se nada lhe fosse feito (isto é, uma condição de controle), e outra amostra se destina a representar o que a população seria, se lhe fosse dado algum tratamento (isto é, condição experimental). O objetivo do teste t de amostras independentes é determinar se é provável que a diferença entre as duas médias amostrais se deva ao erro amostral. A lógica do teste t independente é semelhante à do z para a média amostral, o teste t de amostra única e o teste t de amostras relacionadas. Todos os quatro testes calculam uma razão, especificamente, o desvio observado entre duas médias sobre o desvio esperado devido ao erro amostral:\n",
    "\n",
    "Valor obtido t ou z = $\\frac{Diferença\\quad observada\\quad entre\\quad as\\quad médias}{Diferença\\quad da\\quad média\\quad esperada\\quad devido\\quad a\\quad erro\\quad de\\quad amostragem}$.\n",
    "\n",
    "Para todos esses testes, se a hipótese nula for verdadeira, o t ou z obtido deverão ser iguais a zero. No entanto, se o a hipótese nula for falsa, o t ou z obtidos devem estar longe de zero."
   ]
  },
  {
   "cell_type": "code",
   "execution_count": null,
   "id": "c8721451-5972-4604-9498-a642afc4adc9",
   "metadata": {
    "tags": [
     "hide-input"
    ]
   },
   "outputs": [],
   "source": [
    "# HIDE CODE\n",
    "from jupyterquiz import display_quiz\n",
    "#display_quiz(\"questions.json\", preserve_responses = True)\n",
    "display_quiz(\"question1.json\")"
   ]
  },
  {
   "cell_type": "markdown",
   "id": "b506130e-c824-4dcc-b7cd-2bb0d0116fd3",
   "metadata": {},
   "source": [
    "O teste t de amostras independentes compara duas médias amostrais de duas amostras não relacionadas. Por exemplo, suponha que você e seu amigo João se unam em um projeto de pesquisa que vocês mesmos desenvolveram para praticar o que aprenderam no seu curso de estatística. Vocês dois querem testar como os rótulos verbais influenciam a memória das imagens dos participantes. Você investiga essa questão mostrando a todos os participantes uma série de 25 desenhos de linhas simples, como os mostrados na Figura 10.1, e pedindo-lhes que lembrem dos desenhos 10 minutos depois. No entanto, metade dos participantes viu apenas os desenhos, enquanto a outra metade também viu uma descrição verbal de cada desenho semelhante à da Figura 10.1. Seu estudo é semelhante ao conduzido por Bower, Karlin e Dueck (1975).\n",
    "\n",
    "Você precisa comparar a memória daqueles que viram os desenhos e as descrições verbais (isto é, o grupo experimental) com a memória daqueles que apenas viram os desenhos (isto é, o grupo de controle). Nessa situação, você criou duas amostras e deu a cada uma delas um tratamento diferente. Você então mediu o número médio de desenhos que cada amostra recuperou. A média amostral do grupo de controle estima qual seria o valor médio de memória da população se a população visse apenas os desenhos sem rótulos verbais. Em contraste, a outra amostra estima qual seria o valor médio de memória da população se todos vissem os desenhos e rótulos verbais. Você pode usar um teste t de amostras independentes para determinar se a diferença entre estas duas médias amostrais é provável de ocorrer devido ao erro amostral apenas. Se o grupo experimental usado tivesse uma média maior e se o valor t obtido estiver na região crítica, você poderá concluir que as descrições verbais aumentaram os valores de memória. Se, no entanto, o grupo de descrição verbal tivesse uma média significativamente mais baixa, poderíamos concluir que as descrições verbais diminuíram os valores de memória.\n",
    "\n",
    "Neste estudo, uma amostra única foi coletada da população e depois se dividiu essa amostra para criar dois grupos diferentes; um não recebeu rótulos verbais (isto é, condição de controle) e o outro recebeu rótulos verbais (isto é, condição experimental). Basicamente, você pegou pessoas que eram semelhantes e as tornou diferentes, dando-lhes tratamentos diferentes (ou seja, você deu a elas níveis diferentes de VI [variável independente]). Em seguida, você usou o teste t de amostras independentes para determinar se os diferentes níveis da VI afetavam a memória de maneira diferente.\n",
    "\n",
    "Um teste t de amostras independentes também pode ser usado para comparar duas populações distintas de pessoas que já são diferentes de alguma forma. Em outras palavras, um teste t de amostras independente pode comparar grupos com uma diferença pré-existente. Por exemplo, suponha que você e o João decidam projetar outro experimento de memória para testar uma questão de pesquisa diferente. Você deseja testar uma teoria de aprendizagem chamada \"estilos de aprendizagem\". A teoria propõe que algumas pessoas são \"aprendizes visuais\" e outras são \"aprendizes verbais\". De acordo com a teoria dos estilos de aprendizagem, os \"alunos visuais\" deveriam aprender melhor com o material visual do que os \"alunos verbais\" aprendem com o material visual. Você deseja testar essa previsão determinando se a pontuação média de memória visual de \"aprendizes visuais\" é significativamente maior do que a de \"aprendizes verbais\". Para testar essa hipótese, você pega uma amostra de \"aprendizes visuais\" e uma amostra de \"aprendizes verbais\", mostra a ambos os grupos 25 desenhos de linhas simples (ou seja, informações visuais) e mede sua capacidade de lembrar os desenhos 2 dias depois, pedindo para os participantes recriarem os 25 desenhos. Em seguida, você usa o teste de amostras t independentes para determinar se as pontuações médias de memória visual das duas amostras são significativamente diferentes. A Figura 10.3 ilustra o cenário \"aluno visual\" versus \"aluno verbal\"."
   ]
  },
  {
   "cell_type": "code",
   "execution_count": null,
   "id": "669d880f-3eaa-4970-979b-a44bc424e746",
   "metadata": {
    "tags": [
     "hide-input"
    ]
   },
   "outputs": [],
   "source": [
    "# HIDE CODE\n",
    "display_quiz(\"question2.json\")"
   ]
  },
  {
   "cell_type": "markdown",
   "id": "81a5618c-fc0f-46a4-a8a6-fb8decf2a649",
   "metadata": {},
   "source": [
    "## Fórmula conceitural para t de amostras independentes\n",
    "\n",
    "Independentemente de você ter médias de dois grupos com uma diferença preexistente ou de dois grupos nos quais você criou uma diferença, a mesma fórmula do teste t de amostras independentes será usada. O teste t de amostras independentes é a razão entre a diferença média observada e a diferença esperada devido ao erro de amostragem:\n",
    "\n",
    "t = Diferença média das amostras - Diferença média esperada das populações se H0 for verdadeira/Diferença média esperada devido ao erro de amostragem\n",
    "\n",
    "Conforme indicado na \"fórmula lógica\" anterior, existem três termos neste teste t. A diferença média das duas amostras é determinada pelos dados. No cenário \"aprendizes visuais\" versus \"aprendizes verbais\", este termo é a diferença real entre as pontuações de memória dos alunos \"visuais\" e \"verbais\". A hipótese nula determina o outro termo no numerador. Por exemplo, se o estilo de aprendizagem (visual vs. verbal) não tem impacto nas pontuações de memória, esperaríamos que a pontuação média de memória da população dos dois grupos fosse a mesma, e que a sua diferença média fosse zero. Na maioria das situações de pesquisa (todas as situações neste livro), a diferença média das populações que é esperada se a hipótese nula for verdadeira é zero. Em outras palavras, o numerador é simplesmente a diferença entre as duas médias amostrais. O termo no denominador representa a quantidade de erro amostral esperado. Na fórmula a seguir, $\\bar{x}_1$ e $\\bar{x}_2$ são as médias amostrais do Grupo 1 e do Grupo 2, respectivamente.\n",
    "\n",
    "$t = \\frac{\\bar{x}_1-\\bar{x}_2}{SEM_i}$"
   ]
  },
  {
   "cell_type": "code",
   "execution_count": null,
   "id": "935fe422-dfb8-4098-8952-7a44a435d06d",
   "metadata": {
    "tags": [
     "hide-input"
    ]
   },
   "outputs": [],
   "source": [
    "# HIDE CODE\n",
    "display_quiz(\"question3.json\")"
   ]
  },
  {
   "cell_type": "markdown",
   "id": "bbf96e19-3d8d-4c17-a791-d42f107c4a5c",
   "metadata": {},
   "source": [
    "## Exemplo de teste t de amostras independentes bicaudal\n",
    "\n",
    "Depois de planejar seu estudo investigando o efeito das descrições verbais na memória para desenhos simples, você e seu amigo João discutem suas previsões. João acha que fornecer as descrições verbais junto com os desenhos irá distrair os participantes de prestar atenção aos desenhos. Portanto, ele pensa que a pontuação média de memória para o grupo de descrição verbal será inferior à pontuação média de memória para o grupo sem descrição verbal. Você discorda. Você acha que as descrições verbais ajudarão a dar significado aos desenhos de linhas abstratas, e esse significado maior deve aumentar os índices de memória. Então, você acha que o grupo de descrição verbal terá a pontuação média de memória mais alta. Como existem duas teorias concorrentes que fazem previsões opostas, você escolhe sabiamente realizar um teste t bicaudal. Doze estudantes se voluntariam para participar de seu estudo. Metade deles vê os desenhos de 25 linhas com descrições verbais e a outra metade vê os desenhos de 25 linhas sem descrições verbais. Você registra a pontuação de memória de cada pessoa. As pontuações de memória são normalmente distribuidas. Você usa um teste t bicaudal com um alfa de 0,05 para testar sua questão de pesquisa.\n",
    "\n",
    "Grupo 1: Grupo com descrições verbais:\n",
    "21, 22, 20, 20, 18, 20\n",
    "\n",
    "Grupo 2: Grupo sem descrições verbais:\n",
    "19, 20, 19, 18, 16, 20\n",
    "\n",
    "### Etapa 1: examinar as premissas estatísticas\n",
    "\n",
    "Você coletou seus dados cuidadosamente, satisfazendo assim a suposição de independência de dados. A VD, número de desenhos de linhas lembrados corretamente, é uma variável quantitativa, e a VI, presença ou ausência de descrições verbais, identifica dois grupos/condições diferentes. Portanto, o estudo atende ao pressuposto adequado de mensuração das variáveis. Quando se trata da suposição de normalidade, as distribuições das pontuações de memória tendem a ter formato normal e, portanto, essa suposição provavelmente é atendida. Este estudo provavelmente terá um poder estatístico muito baixo e muitos erros de amostragem devido ao seu tamanho amostral muito pequeno, e você precisará ser muito cauteloso na interpretação dos resultados. A última suposição a considerar é a suposição de homogeneidade de variâncias. Para o teste t de amostras independentes, essa suposição é que os dois grupos apresentam variabilidade semelhante em seus valores de memória. Nos capítulos anteriores, utilizamos a regra geral de que se o desvio padrão numa condição for o dobro do de outra condição, esta suposição pode ser violada. Este ainda é um bom guia a seguir para o teste t independente, mas para o teste t independente, existe uma forma mais precisa de avaliar esta suposição. Como se viu na seção anterior, o valor t obtido de uma amostra independente é a diferença média entre as duas condições dividida pelo erro de amostragem esperado. Na verdade, existem duas maneiras de calcular o erro de amostragem esperado ao fazer um teste t de amostras independentes. Uma forma pressupõe homogeneidade de variância (ou seja, que as duas condições têm variâncias semelhantes) e a outra não. Qual é o melhor caminho depende dos dados. Se as variâncias forem de fato semelhantes, então é melhor calcular o erro de amostragem assumindo variâncias iguais. Se, no entanto, as variâncias forem de fato muito diferentes, é melhor calcular o erro de amostragem sem assumir variâncias iguais. Na maioria dos casos, assumir variâncias iguais será o melhor, e é isso que este livro ensina você a fazer ao fazer cálculos manuais. No entanto, há momentos em que é melhor assumir variâncias desiguais. Obviamente, a quantidade de erro amostral afeta o valor t obtido e sua decisão sobre rejeitar a hipótese nula.\n",
    "Felizmente, os programas estatísticos calculam ambos os valores t. Portanto, ao usar os programas, você deve saber como determinar qual valor t obtido é o melhor para seus dados. É possível utilizar testes para determinar a homogeneidade das variância, como o teste de Levene para ajudá-lo a tomar essa decisão. Descreveremos este teste em detalhes na seção de uso de computadores deste capítulo, mas a ideia principal é que este teste compare a variabilidade nas duas condições, e os resultados deste teste indiquem se as duas variâncias são semelhantes o suficiente para satisfazer suposição de que as variâncias iguais. Com base nos resultados deste teste de Levene, você escolherá entre o teste t que assume variância igual ou aquele que não o faz. Os resultados do teste de Levene são geralmente consistentes com a diretriz de desvio padrão duplo que você aprendeu anteriormente neste texto. Depois de avaliar as suposições, você estará pronto para passar para a próxima etapa."
   ]
  },
  {
   "cell_type": "code",
   "execution_count": null,
   "id": "ed347209-c27f-4259-bfa8-4e537b046a0e",
   "metadata": {
    "tags": [
     "hide-input"
    ]
   },
   "outputs": [],
   "source": [
    "# HIDE CODE\n",
    "display_quiz(\"question4.json\")"
   ]
  },
  {
   "cell_type": "markdown",
   "id": "f720efb2-97ea-40b7-8790-c0f5f36eed02",
   "metadata": {},
   "source": [
    "### Etapa 2: declarar as hipóteses nula e de pesquisa Simbólica e Verbalmente\n",
    " \n",
    "Como mencionado acima, você e João têm previsões opostas sobre os efeitos dos rótulos verbais na memória, então concordam corretamente em usar um teste bicaudal. Como mostra a Tabela 10.1, a hipótese de pesquisa bicaudal afirma que as duas médias são diferentes (ou seja, não são iguais). A hipótese nula é exatamente o oposto, afirmando que as duas médias não são diferentes (ou seja, são iguais).\n",
    "\n",
    "Tipo de Hipótese | Simbólico | Vebal | Diferença entre médias amostral e populacional\n",
    "-- | -- | -- | --\n",
    "Hipótese nula | $H_0:\\mu_1=\\mu_2;$ ou $H_0:\\mu_1-\\mu_2=0;$ | Diferença das médias $\\approx$ 0 | Erro amostral\n",
    "Hipótese de pesquisa | $H_a:\\mu_1 \\neq \\mu_2;$ ou $H_0:\\mu_1-\\mu_2 \\neq 0;$ | Diferença das médias $\\neq$ 0 | Descrição verbal afeta memória\n"
   ]
  },
  {
   "cell_type": "code",
   "execution_count": null,
   "id": "662ceb8f-0d8e-41d5-a8c5-5b9a441f6450",
   "metadata": {
    "tags": [
     "hide-input"
    ]
   },
   "outputs": [],
   "source": [
    "# HIDE CODE\n",
    "display_quiz(\"question5.json\")"
   ]
  },
  {
   "cell_type": "markdown",
   "id": "2122a90f-189a-48c2-aef0-85fd6e437ef9",
   "metadata": {},
   "source": [
    "### Etapa 3: calcule os graus de liberdade e definição da região crítica\n",
    "\n",
    "Quando você calculou os graus de liberdade (gl) para o teste t de amostra única, a fórmula do gl foi $gl = (N - 1)$. A fórmula gl para um teste t de amostras independentes é diferente porque o teste t de amostras independentes usa duas amostras em vez de apenas uma amostra. Portanto, você tem que calcular o gl para cada amostra e combiná-las para obter o gl para o teste t independente. A fórmula do gl para teste t de amostras independente é $gl = (n_1 - 1) + (n_2 - 1)$, onde $n_1$ e $n_2$ representam os tamanhos amostrais das duas amostras, espectivamente.\n",
    "\n",
    "Neste caso, o gl é o seguinte:\n",
    "\n",
    "$gl = (n_1-1) + (n_2-1) = (6-1) + (6-1) = 10$\n",
    "\n",
    "Você então usa a tabela t correta de valores críticos e o critério $\\alpha = 0.05$ para encontrar o valor crítico de t para este teste t de amoastras independente bicaudal. Neste caso, o valor crítico é 2.2281. Isso significa que as duas regiões críticas são $t \\geq 2,2281$ e $t  \\leq -2.2281$."
   ]
  },
  {
   "cell_type": "code",
   "execution_count": 2,
   "id": "11e22a8b-00c4-4a2a-accd-e55a90e2fbf3",
   "metadata": {
    "tags": [
     "hide-input"
    ]
   },
   "outputs": [
    {
     "data": {
      "text/html": [
       "<style type=\"text/css\">\n",
       "#T_915ba_row1_col0, #T_915ba_row1_col1, #T_915ba_row1_col2 {\n",
       "  background-color: yellow;\n",
       "}\n",
       "</style>\n",
       "<table id=\"T_915ba\">\n",
       "  <thead>\n",
       "    <tr>\n",
       "      <th class=\"blank level0\" >&nbsp;</th>\n",
       "      <th id=\"T_915ba_level0_col0\" class=\"col_heading level0 col0\" >gl</th>\n",
       "      <th id=\"T_915ba_level0_col1\" class=\"col_heading level0 col1\" >α=.05</th>\n",
       "      <th id=\"T_915ba_level0_col2\" class=\"col_heading level0 col2\" >α=.01</th>\n",
       "    </tr>\n",
       "  </thead>\n",
       "  <tbody>\n",
       "    <tr>\n",
       "      <th id=\"T_915ba_level0_row0\" class=\"row_heading level0 row0\" >0</th>\n",
       "      <td id=\"T_915ba_row0_col0\" class=\"data row0 col0\" >9</td>\n",
       "      <td id=\"T_915ba_row0_col1\" class=\"data row0 col1\" >2.262200</td>\n",
       "      <td id=\"T_915ba_row0_col2\" class=\"data row0 col2\" >3.249800</td>\n",
       "    </tr>\n",
       "    <tr>\n",
       "      <th id=\"T_915ba_level0_row1\" class=\"row_heading level0 row1\" >1</th>\n",
       "      <td id=\"T_915ba_row1_col0\" class=\"data row1 col0\" >10</td>\n",
       "      <td id=\"T_915ba_row1_col1\" class=\"data row1 col1\" >2.228100</td>\n",
       "      <td id=\"T_915ba_row1_col2\" class=\"data row1 col2\" >3.169300</td>\n",
       "    </tr>\n",
       "    <tr>\n",
       "      <th id=\"T_915ba_level0_row2\" class=\"row_heading level0 row2\" >2</th>\n",
       "      <td id=\"T_915ba_row2_col0\" class=\"data row2 col0\" >11</td>\n",
       "      <td id=\"T_915ba_row2_col1\" class=\"data row2 col1\" >2.201000</td>\n",
       "      <td id=\"T_915ba_row2_col2\" class=\"data row2 col2\" >3.105800</td>\n",
       "    </tr>\n",
       "  </tbody>\n",
       "</table>\n"
      ],
      "text/plain": [
       "<pandas.io.formats.style.Styler at 0x7e4c41b81a60>"
      ]
     },
     "execution_count": 2,
     "metadata": {},
     "output_type": "execute_result"
    }
   ],
   "source": [
    "# HIDE CODE\n",
    "import pandas as pd\n",
    "import numpy as np\n",
    "from scipy import stats\n",
    "\n",
    "gls = [9, 10, 11]\n",
    "a05 = [round(-stats.t(x).ppf(0.025), 4) for x in gls]\n",
    "a01 = [round(-stats.t(x).ppf(0.005), 4) for x in gls]\n",
    "\n",
    "df = pd.DataFrame(zip(gls, a05, a01), columns=['gl', r'α=.05', r'α=.01'])\n",
    "\n",
    "color = (df.iloc[:,1] == df.loc[1,r'α=.05']).map({True: 'background-color: yellow', False: ''})\n",
    "\n",
    "df.style.apply(lambda s: color)"
   ]
  },
  {
   "cell_type": "markdown",
   "id": "8a6d249a-13ab-48b8-95ba-4ffdf9561527",
   "metadata": {},
   "source": [
    "### Etapa 4: calcular a estatística de teste\n",
    "_4a. Calcule o desvio entre as duas médias amostrais_\n",
    "\n",
    "Conforme mencionado acima, existem dois termos no numerador da estatística t. A primeira $(\\bar{x}_1 - \\bar{x}_2)$ é a diferença entre as duas médias amostrais. O segundo $(\\mu_1 - \\mu_2)$ é a diferença entre as duas populações, assumindo que a hipótese nula é verdadeira. Embora seja possível testar hipóteses nulas que predizem uma diferença específica diferente de zero (por exemplo, $\\mu_1 - \\mu_2 = 10$), estes tipos de testes são muito raros e não serão abordados neste texto. Para nossos propósitos, $\\mu_1 - \\mu_2$ será sempre igual a 0. Assim, o numerador é simplesmente a diferença observada entre as duas médias amostrais:\n",
    "\n",
    "$(\\bar{x}_1 - \\bar{x}_2) = ( 20.17 - 18.67) = 1.50$"
   ]
  },
  {
   "cell_type": "code",
   "execution_count": null,
   "id": "77d423e4-23de-4b3d-95fa-529ffa9c3a26",
   "metadata": {
    "tags": [
     "hide-input"
    ]
   },
   "outputs": [],
   "source": [
    "# HIDE CODE\n",
    "display_quiz(\"question6.json\")"
   ]
  },
  {
   "cell_type": "markdown",
   "id": "d33533f9-f23c-4f98-8508-784aebfc8caa",
   "metadata": {},
   "source": [
    "_4b. Calcule o erro de amostragem esperado_\n",
    "\n",
    "O cálculo do denominador, ou erro de amostragem esperado, requer várias etapas. Primeiro, calcule o desvio padrão para o Grupo 1 ($DP_1$) e depois calcule o desvio padrão para o Grupo 2 ($DP_2$). Neste problema, o desvio padrão para cada grupo de pontuações não é fornecido a você, portanto você deve calcular cada uma delas. Em outros problemas, esta informação pode ser fornecida. Como você deve se lembrar, a fórmula computacional para a soma dos quadrados é SQ. Portanto, o $SQ_1$ e o $SD_1$ são os seguintes:\n",
    "\n",
    "$SQ_1 = \\frac{1}{N-1}\\sum_{i=1}^n(x_{1i} - \\bar{x}_1)^2 = 1.767$\n",
    "\n",
    "$DP_1 = \\sqrt{1.767} = 1.329$\n",
    "\n",
    "$SQ_2 = \\frac{1}{N-1}\\sum_{i=1}^n(x_{1i} - \\bar{x}_1)^2 = 2.267$\n",
    "\n",
    "$DP_2 = \\sqrt{2.267} = 1.506$\n",
    "\n",
    "Depois de calcular o desvio padrão para cada grupo, calcule a variância agrupada. Este método assume que as variações nas duas condições são semelhantes; isto é, está assumindo homogeneidade de variância). Se as duas populações das quais essas amostras foram extraídas tiverem de fato variâncias semelhantes, é melhor agrupá-las ao calcular o erro de amostragem porque você está usando mais dados para estimar as variâncias das populações. Quando apropriado, agrupar as variações tornará seu teste de significância mais preciso. A fórmula para a variância agrupada é a seguinte:\n",
    "\n",
    "$SQ_p = \\frac{(n_1-1)SQ_1+(n_2-1)SQ_2}{(n_1-1)+(n_2-1)} = \\frac{(6-1)1.767+(6-1)2.267}{(6-1)+(6-1)}=2.02$\n",
    "\n",
    "A fórmula de variância combinada pode ser um pouco confusa, mas é importante que você entenda o que ela representa. A variância combinada é a média das duas variâncias amostrais ponderadas pelo tamanho da amostra. Neste exemplo específico, os tamanhos das amostras são iguais (ou seja, seis em cada grupo) e, portanto, você poderia calcular a variância agrupada simplesmente calculando a média das duas variâncias (lembre-se da variância $SQ$, ($\\frac{(SQ_1+SQ_1)}{2}$). Esta fórmula simples fornece o mesmo valor para as variáveis agrupadas é igual à fórmula mais complexa acima apenas quando os tamanhos das amostras são iguais. Se os tamanhos das amostras forem diferentes, a fórmula mais complexa fornecerá um valor diferente e mais preciso porque dará mais peso à amostra maior. Em geral, quanto maior a amostra, mais precisamente ela representa a população e, portanto, quando os tamanhos das amostras forem diferentes, use a fórmula mais complexa que  dá maior peso aos dados da amostra maior.\n",
    "\n",
    "O método de cálculo do erro amostral que assume a homogeneidade da variância utiliza a variância agrupada para determinar o erro padrão estimado da diferença média ($SEM_i$), conforme ilustrado pela equação a seguir. Certifique-se de usar n e não gl no denominador e observe que a variância combinada ($SD_p$) já está ao quadrado.\n",
    "\n",
    "$SEM_i = \\sqrt{\\frac{SD_p}{n_1}+\\frac{SD_p}{n_2}} = \\sqrt{\\frac{2.02}{6}+\\frac{2.02}{6}} = 0.82$\n",
    "\n",
    "O erro padrão estimado da diferença média, 0.82, é a nossa estimativa do erro amostral esperado. Um erro padrão de 0.82 indica que a diferença entre as duas médias esperadas devido ao erro amostral é de 0.82."
   ]
  },
  {
   "cell_type": "code",
   "execution_count": null,
   "id": "353d33d4-af0d-430e-a3a3-fbcc921a6833",
   "metadata": {
    "tags": [
     "hide-input"
    ]
   },
   "outputs": [],
   "source": [
    "# HIDE CODE\n",
    "display_quiz(\"question7.json\")"
   ]
  },
  {
   "cell_type": "markdown",
   "id": "4991adbe-7294-42cc-a912-5eee5741bba8",
   "metadata": {},
   "source": [
    "_4c. Calcule a estatística do teste (teste t independente)_\n",
    "\n",
    "O teste t de amostras independente é a razão entre o desvio observado entre as duas médias amostrais dividido pelo erro padrão estimado da diferença média:\n",
    "\n",
    "$t = \\frac{\\bar{x}_1-\\bar{x}_2}{SEM_i} =  \\frac{20.17 - 18.67}{0.82} = 1.83$\n",
    "\n",
    "A diferença entre as duas médias (ou seja, 20.17 - 18.67 = 1.50) foi 1.83 vezes maior que o desvio esperado devido ao erro amostral (ou seja, 0.82). As regiões críticas de t foram $t \\geq 2,2281$ e $t \\leq -2,2281$, e portanto o valor t obtido não caiu na região crítica. O valor t obtido não é suficientemente grande para rejeitar a hipótese nula e, portanto, você não rejeita a hipótese nula."
   ]
  },
  {
   "cell_type": "code",
   "execution_count": null,
   "id": "424e9505-9c18-4507-a542-8629a0c0892b",
   "metadata": {
    "tags": [
     "hide-input"
    ]
   },
   "outputs": [],
   "source": [
    "# HIDE CODE\n",
    "display_quiz(\"question8.json\")"
   ]
  },
  {
   "cell_type": "markdown",
   "id": "77938d70-b8d2-441b-88e4-d559d20f8c6e",
   "metadata": {},
   "source": [
    "### Etapa 5: calcule o tamanho do efeito e descreva-o\n",
    "\n",
    "A fórmula para calcular o tamanho do efeito de um teste t independente é semelhante à de um teste t de amostra única. No entanto, ao calcular d, o denominador é a variância combinada (ou seja, $SQ_p$), que pode ser convertido para o desvio padrão agrupado (ou seja, $SQ_p$) calculando sua raiz quadrada. Você calculou a variância combinada na Etapa 3b; era 2.02. O cálculo d é o seguinte:\n",
    "\n",
    "d = Diferença observada entre as médias/Desvio padrão combinado = $\\frac{\\bar{x}_1 - \\bar{x}_2}{SQ_p} = \\frac{20.17-18.67}{2.02} = 1.06$.\n",
    "\n",
    "Os mesmos pontos de corte de tamanho de efeito são usados para um teste t independente. Se d estiver próximo de 0.2, o tamanho do efeito é pequeno; se estiver próximo de 0.5, o tamanho do efeito é médio; e se estiver próximo de 0.8, é grande. Um tamanho de efeito de 1.06 é considerado um efeito grande. Os resultados das etapas 4 e 5 podem ser um pouco confusos. No Passo 4, você não conseguiu rejeitar a hipótese nula, o que significava que o grupo com rótulo verbal não se lembrava de mais imagens do que o grupo sem rótulo verbal. No entanto, o tamanho do efeito de 1.06 indica que a diferença entre as duas médias é grande. Sempre que a hipótese nula não é rejeitada e ainda assim houve um tamanho de efeito médio ou grande, o tamanho da amostra utilizado no estudo foi muito pequeno para que o teste estatístico ou o tamanho do efeito sejam confiáveis. Ao interpretar os resultados de qualquer estudo, também é importante considerar os resultados de outros estudos semelhantes. Quando Bower et al. (1975) conduziram um estudo semelhante e descobriram que os rótulos verbais melhoraram o desempenho da memória. A combinação de amostras pequenas e o grande tamanho do efeito do seu estudo e o fato de um estudo semelhante ter rejeitado a hipótese nulo sugerem que você deve interpretar o seu resultado nulo com cautela. Em situações como essa, você deve obter um tamanho de amostra maior e, em seguida, reexecutar o estudo."
   ]
  },
  {
   "cell_type": "code",
   "execution_count": null,
   "id": "12ce345f-b721-4cc2-b5b1-fdc33d17b915",
   "metadata": {
    "tags": [
     "hide-input"
    ]
   },
   "outputs": [],
   "source": [
    "# HIDE CODE\n",
    "display_quiz(\"question9.json\")"
   ]
  },
  {
   "cell_type": "markdown",
   "id": "e24bb472-7e94-4c93-b495-5b127211f8c4",
   "metadata": {},
   "source": [
    "_Etapa 6: Interpretando os Resultados do Teste de Hipóteses_\n",
    "\n",
    "O parágrafo a seguir resume os resultados desses testes:\n",
    "Não houve diferença significativa entre as pontuações de memória daqueles que obtiveram as descrições verbais $(\\bar{x}_1 = 20.17, DP_1 = 1.33)$ e daqueles que não obtiveram $(\\bar{x}_2 = 18.67, DP_2 = 1.51)$, $t_{(10)} = 1.83$, $p > 0.05$, d = 1.06. No entanto, é importante notar que os tamanhos amostrais eram pequenos, portanto este estudo deve ser repetido com tamanhos amostrais maiores antes de serem tiradas conclusões."
   ]
  },
  {
   "cell_type": "code",
   "execution_count": null,
   "id": "0f47fedc-b3fb-435e-aeb1-9bd2a4279f52",
   "metadata": {
    "tags": [
     "hide-input"
    ]
   },
   "outputs": [],
   "source": [
    "# HIDE CODE\n",
    "display_quiz(\"question10.json\")"
   ]
  },
  {
   "cell_type": "markdown",
   "id": "23abbe04-cec0-4ab9-ab6e-0ee5813c6d61",
   "metadata": {},
   "source": [
    "## Exemplo de teste t de amostras independentes unicaldal\n",
    "\n",
    "Você e seu amigo João agora voltam seus esforços de pesquisa para o estudo de \"estilos de aprendizagem\". Os \"aprendizes visuais\" têm melhor memória para informações visuais do que os \"aprendizes verbais\"? Se a teoria dos estilos de aprendizagem for precisa, os \"alunos visuais' deveriam recordar mais informações visuais do que os \"alunos verbais\". Dado que a teoria faz uma previsão específica, um teste t unilateral é apropriado nesta situação. Vinte e nove \"aprendizes verbais\" e 31 \"aprendizes visuais\" voluntariaram-se para participar num estudo que investigou esta questão. Todos os alunos foram apresentados a desenhos de linhas simples e, em seguida, foram solicitados a recriar tantos desenhos de linhas quanto conseguissem lembrar. As pontuações de memória visual de cada grupo estão listadas abaixo. Você usa corretamente um teste t independente unilateral com um nível alfa de 0.05 para determinar se \"aprendizes visuais\" se lembram mais dos desenhos de linha do que \"aprendizes verbais\".\n",
    "\n",
    "Grupo 1: Grupo de Aprendizes Verbais:\n",
    "\n",
    "$\\bar{x}_1 = 15.00; DP_1 = 1.41, n_1 = 29$\n",
    "\n",
    "Grupo 2: Grupo de Aprendiz Visual:\n",
    "\n",
    "$\\bar{x}_2 = 15.25; DP_2 = 1.67, n_2 = 31$\n",
    "\n",
    "### Etapa 1: examinar as premissas estatísticas\n",
    "\n",
    "Tal como no exemplo anterior, estes dados cumprem todos os pressupostos estatísticos. Os dados dentro de cada condição são independentes e a VD é medido com uma variável quantitativa. Você também sabe que as pontuações de memória tendem a ser distribuídas normalmente, portanto, a suposição de normalidade provavelmente é atendida. Como antes, a suposição de homogeneidade de variância será avaliada com o teste de Levene.\n",
    "\n",
    "### Etapa 2: declarar as hipótese nula e de pesquisa simbólica e verbalmente\n",
    "\n",
    "A hipótese de pesquisa para um teste unilateral especifica qual das duas médias amostrais será maior se o \"tratamento\" funcionar. Neste exemplo, o Grupo 1 era formado por \"aprendizes verbais\" e o Grupo 2 era formado por \"aprendizes visuais\". A teoria dos estilos de aprendizagem prevê que os \"aprendizes visuais\" deveriam aprender informações visuais melhor do que os \"aprendizes verbais\", e esta previsão é representada simbolicamente pelo seguinte\n",
    "\n",
    "Tipo de Hipótese | Simbólico | Vebal | Diferença entre médias amostral e populacional\n",
    "-- | -- | -- | --\n",
    "Hipótese nula | $H_0:\\mu_1=\\mu_2;$ ou $H_0:\\mu_1-\\mu_2=0;$ | Diferença das médias $\\approx$ 0 | Erro amostral\n",
    "Hipótese de pesquisa | $H_a:\\mu_1 < \\mu_2;$ ou $H_0:\\mu_1-\\mu_2 < 0;$ | Diferença das médias $<$ 0 | Aprendizes visuais lembram mais\n",
    "\n",
    "\n",
    "hipótese de pesquisa: $\\mu_{verbal} < \\mu_{visual}$ ou $\\mu_{verbal} - \\mu_{visual} < 0$. A hipótese nula é o oposto da hipótese de pesquisa, incluindo todos os outros resultados possíveis. Assim, a hipótese nula afirma que $\\mu_{verbal} = \\mu_{visual}$ ou $\\mu_{verbal} - \\mu_{visual} = 0$. Em outras palavras, a hipótese nula é que \"aprendizes visuais\" não aprendem informações visuais melhor do que os \"aprendizes verbais\". A pesquisa e as hipóteses nulas para este teste t independente unilateral são mostradas na Tabela 10.2."
   ]
  },
  {
   "cell_type": "code",
   "execution_count": null,
   "id": "0af6d7b2-0260-495f-8224-9fe7cecf5dc2",
   "metadata": {
    "tags": [
     "hide-input"
    ]
   },
   "outputs": [],
   "source": [
    "# HIDE CODE\n",
    "display_quiz(\"question11.json\")"
   ]
  },
  {
   "cell_type": "markdown",
   "id": "af131cda-6d60-4e11-867a-de0424fa5e51",
   "metadata": {},
   "source": [
    "### Etapa 3: calcule os graus de Liberdade e definição da região crítica\n",
    "\n",
    "O cálculo do gl para testes unicaudais é feito exatamente da mesma maneira que para um teste bicaudal. Nesse caso,\n",
    "\n",
    "$gl = (n_1-1)+(n_2-1) = (29 - 1)+(31 - 1) = 58$\n",
    "\n",
    "A tabela t unicaudal indica que um estudo com gl = 58, ao utilizar $\\alpha = 0.05$, tem valor crítico de 1.6716. A hipótese de pesquisa prevê que $\\mu_1$, o grupo verbal, será menor que $\\mu_2$, o grupo visual, portanto está prevendo um valor t negativo obtido, $\\mu_{verbal} - \\mu_{visual} < 0$. Assim, a região crítica está no lado negativo da distribuição. O hipótese nula deve ser rejeitada se $t < -1.6716$. Se os \"aprendizes verbais\" fossem rotulados como Grupo 2 e os \"aprendizes visuais\" como Grupo 1, teríamos esperado um t positivo, e a região crítica estaria no lado positivo da distribuição."
   ]
  },
  {
   "cell_type": "code",
   "execution_count": 1,
   "id": "2c4e74ef-93c7-468f-9950-ee02b8c38ca0",
   "metadata": {
    "tags": [
     "hide-input"
    ]
   },
   "outputs": [
    {
     "data": {
      "text/html": [
       "<style type=\"text/css\">\n",
       "#T_41540_row1_col0, #T_41540_row1_col1, #T_41540_row1_col2 {\n",
       "  background-color: yellow;\n",
       "}\n",
       "</style>\n",
       "<table id=\"T_41540\">\n",
       "  <thead>\n",
       "    <tr>\n",
       "      <th class=\"blank level0\" >&nbsp;</th>\n",
       "      <th id=\"T_41540_level0_col0\" class=\"col_heading level0 col0\" >gl</th>\n",
       "      <th id=\"T_41540_level0_col1\" class=\"col_heading level0 col1\" >α=.05</th>\n",
       "      <th id=\"T_41540_level0_col2\" class=\"col_heading level0 col2\" >α=.01</th>\n",
       "    </tr>\n",
       "  </thead>\n",
       "  <tbody>\n",
       "    <tr>\n",
       "      <th id=\"T_41540_level0_row0\" class=\"row_heading level0 row0\" >0</th>\n",
       "      <td id=\"T_41540_row0_col0\" class=\"data row0 col0\" >57</td>\n",
       "      <td id=\"T_41540_row0_col1\" class=\"data row0 col1\" >1.672000</td>\n",
       "      <td id=\"T_41540_row0_col2\" class=\"data row0 col2\" >2.393600</td>\n",
       "    </tr>\n",
       "    <tr>\n",
       "      <th id=\"T_41540_level0_row1\" class=\"row_heading level0 row1\" >1</th>\n",
       "      <td id=\"T_41540_row1_col0\" class=\"data row1 col0\" >58</td>\n",
       "      <td id=\"T_41540_row1_col1\" class=\"data row1 col1\" >1.671600</td>\n",
       "      <td id=\"T_41540_row1_col2\" class=\"data row1 col2\" >2.392400</td>\n",
       "    </tr>\n",
       "    <tr>\n",
       "      <th id=\"T_41540_level0_row2\" class=\"row_heading level0 row2\" >2</th>\n",
       "      <td id=\"T_41540_row2_col0\" class=\"data row2 col0\" >59</td>\n",
       "      <td id=\"T_41540_row2_col1\" class=\"data row2 col1\" >1.671100</td>\n",
       "      <td id=\"T_41540_row2_col2\" class=\"data row2 col2\" >2.391200</td>\n",
       "    </tr>\n",
       "  </tbody>\n",
       "</table>\n"
      ],
      "text/plain": [
       "<pandas.io.formats.style.Styler at 0x7ca993f814f0>"
      ]
     },
     "execution_count": 1,
     "metadata": {},
     "output_type": "execute_result"
    }
   ],
   "source": [
    "# HIDE CODE\n",
    "import pandas as pd\n",
    "import numpy as np\n",
    "from scipy import stats\n",
    "\n",
    "gls = [57, 58, 59]\n",
    "a05 = [round(-stats.t(x).ppf(0.05), 4) for x in gls]\n",
    "a01 = [round(-stats.t(x).ppf(0.01), 4) for x in gls]\n",
    "\n",
    "df = pd.DataFrame(zip(gls, a05, a01), columns=['gl', r'α=.05', r'α=.01'])\n",
    "\n",
    "color = (df.iloc[:,1] == df.loc[1,r'α=.05']).map({True: 'background-color: yellow', False: ''})\n",
    "\n",
    "df.style.apply(lambda s: color)"
   ]
  },
  {
   "cell_type": "code",
   "execution_count": null,
   "id": "e7f61cec-9c9b-4b7e-8567-bfa42e96d64e",
   "metadata": {
    "tags": [
     "hide-input"
    ]
   },
   "outputs": [],
   "source": [
    "# HIDE CODE\n",
    "display_quiz(\"question12.json\")"
   ]
  },
  {
   "cell_type": "markdown",
   "id": "8992d7ef-6b30-4886-81ef-6116750a1d80",
   "metadata": {},
   "source": [
    "### Etapa 4: calcular a estatística de teste\n",
    "\n",
    "_4a. Calcule o desvio entre as duas médias amostrais_\n",
    "\n",
    "Novamente, o numerador do teste é a diferença entre as duas médias amostrais:\n",
    "\n",
    "$(\\bar{x}_1 - \\bar{x}_2) = (15.00-15) = -0.25$.\n",
    "\n",
    "_4b. Calcule o erro médio de amostra esperado_\n",
    "\n",
    "Como no exemplo anterior, você precisa do desvio padrão para cada grupo de pontuações. Neste problema, eles foram fornecidos para você, mas você deve saber como calculá-los se precisar para problemas futuros. Revise o exemplo anterior se não tiver certeza de como isso é feito. Depois que o desvio padrão para o Grupo 1 (ou seja, $DP_1 = 1.41$) e o desvio padrão para o Grupo 2 (ou seja, $DP_2 = 1.67$) forem calculados, você calcula a variância agrupada (ou seja, $SQ_p$) do seguinte modo:\n",
    "\n",
    "$SQ_p = \\frac{((n_1-1)SQ_1+(n_2-1)SQ_2)}{(n_1-1)+(n_2-1)} = 2.402$\n",
    "\n",
    "A variância combinada é a variância média das duas amostras ponderada pelo tamanho da amostra. Nesse caso, a segunda amostra era um pouco maior que a segunda amostra e, portanto, a variância associada a essa amostra recebeu mais peso no cálculo da variância agrupada. Só faz sentido agrupar (ou calcular a média) os dois desvios padrão se eles estiverem estimando o mesmo parâmetro populacional. Se os desvios padrão forem significativamente diferentes entre si, a variância agrupada deverá ser calculada de uma maneira diferente. Felizmente, os pacotes estatísticos fazem todos esses cálculos automaticamente e, portanto,  revisitaremos esse problema na seção de uso de computadores a seguir. Depois de calcular a variância agrupada, você a usará para calcular o erro padrão estimado da diferença média, que é feito da seguinte forma:\n",
    "\n",
    "$SEM_i = \\sqrt{\\frac{SQ_p}{n_1}+\\frac{SQ_p}{n_2}} = 0.4$\n",
    "\n",
    "Certifique-se de usar n de cada grupo e não gl no denominador ao calcular a estimativa de erro padrão da diferença média. Além disso, observe que a variância agrupada ($SQ_p$) já está elevado ao quadrado e, portanto, você não deve elevá-la ao quadrado novamente."
   ]
  },
  {
   "cell_type": "code",
   "execution_count": null,
   "id": "759edb23-7599-45db-aad6-27961257909d",
   "metadata": {
    "tags": [
     "hide-input"
    ]
   },
   "outputs": [],
   "source": [
    "# HIDE CODE\n",
    "display_quiz(\"question13.json\")"
   ]
  },
  {
   "cell_type": "markdown",
   "id": "feaf97cb-5af6-4ac9-9459-12dfdccdfe4e",
   "metadata": {},
   "source": [
    "_4c. Calcule a estatística do teste (teste t de amostras independentes)_\n",
    "\n",
    "Novamente, o cálculo do teste t é idêntico a um teste bicaudal:\n",
    "\n",
    "$t = \\frac{(\\bar{x}_1 - \\bar{x}_2)}{SEM_i} = \\frac{(15 - 15.25)}{0.40} = -0.63$\n",
    "\n",
    "O valor t obtido de -0.63 não está mais longe de zero do que o valor crítico de -1.6716. Portanto, você não rejeita a hipótese nula."
   ]
  },
  {
   "cell_type": "code",
   "execution_count": null,
   "id": "24b361f0-071c-44d3-8c1a-ba0f86f57be5",
   "metadata": {
    "tags": [
     "hide-input"
    ]
   },
   "outputs": [],
   "source": [
    "# HIDE CODE\n",
    "display_quiz(\"question14.json\")"
   ]
  },
  {
   "cell_type": "markdown",
   "id": "0f3cb7eb-a9c0-4f8f-8bd2-d0add96e3b5b",
   "metadata": {},
   "source": [
    "### Etapa 5: calcule o tamanho do efeito e descreva-o\n",
    "\n",
    "Novamente, calcular o tamanho do efeito para testes unicaudais e bicaudais é idêntico:\n",
    "\n",
    "d = Diferença observada entre as médias/Desvio padrão = -0.16\n",
    "\n",
    "Um tamanho de efeito com valor absoluto de 0.16 é pequeno. Isso significa que o estilo de aprendizagem dos alunos praticamente não teve efeito algum nas pontuações de memória."
   ]
  },
  {
   "cell_type": "code",
   "execution_count": null,
   "id": "6f3eba16-2f21-4894-9989-3cab022da687",
   "metadata": {
    "tags": [
     "hide-input"
    ]
   },
   "outputs": [],
   "source": [
    "# HIDE CODE\n",
    "display_quiz(\"question15.json\")"
   ]
  },
  {
   "cell_type": "markdown",
   "id": "245603dc-3fb3-429d-8e92-d6c275b491d5",
   "metadata": {},
   "source": [
    "### Etapa 6: Interpretando os Resultados do Teste de Hipóteses\n",
    "\n",
    "Ao interpretar os resultados de qualquer estudo, você deve sempre considerar os resultados do teste de significância e o tamanho do efeito. Neste estudo sobre estilos de aprendizagem, o teste de significância sugeriu que a diferença nas pontuações médias de memória entre alunos visuais e verbais era provavelmente apenas um erro de amostragem. Em outras palavras, os dados não apoiaram a teoria dos estilos de aprendizagem. O pequeno tamanho do efeito neste estudo também não apoiou a ideia de que os estilos de aprendizagem influenciam o desempenho da memória. Este estudo gerou um \"resultado nulo\" inequívoco. Se muitos outros estudos na literatura relatarem resultados nulos semelhantes, então você poderá ter mais certeza de que seu resultado nulo reflete com precisão a situação real. Mesmo que você já tenha ouvido falar muito sobre estilos de aprendizagem e tenha sido informado de que você é um aluno \"visual\", \"auditivo\" ou \"verbal\", você deve saber que estudos experimentais geralmente encontraram resultados nulos ao investigar estilos de aprendizagem (Cook, Gelula, Dupras e Schwartz, 2007; Pashler, McDaniel, Rohrer e Bjork, 2008). Na verdade, a coleção de resultados nulos é suficientemente grande para que os investigadores da memória geralmente concordem que, atualmente, não há evidências que apoiem a teoria dos estilos de aprendizagem (Pasher et al., 2008). Em vez disso, os pesquisadores da memória sugerem que os instrutores deveriam incorporar estratégias de memória apoiadas por evidências. Muitas pesquisas sobre memória apoiam a eficácia do uso de níveis mais profundos de processamento ou efeitos de práticas de recuperação. Em outras palavras, você deve pensar sobre o significado do que está tentando aprender e praticar a recuperação das informações da sua memória. A pesquisa sugere que essas estratégias de estudo aumentarão seu desempenho acadêmico, mas não depender de estilos de aprendizagem. Os resultados do estudo de estilos de aprendizagem, tanto seu, quanto do João, podem ser resumidos da seguinte forma:\n",
    "\n",
    "Ao contrário da previsão da teoria dos estilos de aprendizagem, os alunos visuais $(\\bar{x} = 15.25, DP = 1.41)$ não aprenderam significativamente mais informações visuais do que os alunos verbais $(\\bar{x} = 15.00, DP = 1.67)$, $t_{(58)} = -0.63$, $p > 0.05$ (unicaudal), d = -0.16. O resultado nulo do estudo é consistente com os resultados nulos encontrados por vários outros pesquisadores que investigam estilos de aprendizagem. Coletivamente, os resultados nulos de vários estudos sobre estilos de aprendizagem sugerem fortemente que há muito pouco, ou nenhum, mérito na teoria da aprendizagem dos estilos de aprendizagem."
   ]
  },
  {
   "cell_type": "code",
   "execution_count": null,
   "id": "8c2c2bd4-b6f2-42ca-95c7-f932d5cf807f",
   "metadata": {
    "tags": [
     "hide-input"
    ]
   },
   "outputs": [],
   "source": [
    "# HIDE CODE\n",
    "display_quiz(\"question16.json\")"
   ]
  },
  {
   "cell_type": "markdown",
   "id": "3f511584-aed6-47d8-9d51-8347eea9972a",
   "metadata": {},
   "source": [
    "## Outros Níveis Alfa\n",
    "\n",
    "Em ambos os exemplos anteriores, você usou um alfa de 0.05. Se você usasse um alfa de 0.01 em vez de 0.05, seria mais difícil rejeitar a hipótese nula. Isso significa que você teria menos poder estatístico, mas um risco menor de cometer um erro Tipo I."
   ]
  },
  {
   "cell_type": "code",
   "execution_count": null,
   "id": "82b151de-8de3-4afe-9823-e79d62c88bf4",
   "metadata": {
    "tags": [
     "hide-input"
    ]
   },
   "outputs": [],
   "source": [
    "# HIDE CODE\n",
    "display_quiz(\"question17.json\")"
   ]
  },
  {
   "cell_type": "markdown",
   "id": "675be7bd-679d-4ced-b4c3-5b8ae9b3a339",
   "metadata": {},
   "source": [
    "## Prática complementar OPCIONAL\n",
    "\n",
    "Código python: [![Abra com Colab](https://colab.research.google.com/assets/colab-badge.svg)](http://colab.research.google.com/github/ridasilva/bioestatisca/blob/master/capitulos/chap10/chap10amostras_independentes.ipynb)\n",
    "\n",
    "Google Planilhas: [![Abra com Colab](../chap5/fig/google_sheet.png)](https://docs.google.com/spreadsheets/d/1TVjJWrYZ7jnKslqKZXkGpvjY8vctVjZ5N3cNL9F0HSU/edit?usp=sharing)"
   ]
  },
  {
   "cell_type": "markdown",
   "id": "672b98c0-74ea-450d-a484-be60066cc068",
   "metadata": {},
   "source": [
    "## Bibliografia\n",
    "\n",
    "```{bibliography}\n",
    "```"
   ]
  }
 ],
 "metadata": {
  "kernelspec": {
   "display_name": "Python 3 (ipykernel)",
   "language": "python",
   "name": "python3"
  },
  "language_info": {
   "codemirror_mode": {
    "name": "ipython",
    "version": 3
   },
   "file_extension": ".py",
   "mimetype": "text/x-python",
   "name": "python",
   "nbconvert_exporter": "python",
   "pygments_lexer": "ipython3",
   "version": "3.9.19"
  }
 },
 "nbformat": 4,
 "nbformat_minor": 5
}
