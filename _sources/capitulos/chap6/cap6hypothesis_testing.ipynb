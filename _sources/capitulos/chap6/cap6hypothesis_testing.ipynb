{
 "cells": [
  {
   "cell_type": "markdown",
   "metadata": {
    "id": "P4vMNqO3iTuE"
   },
   "source": [
    "### Este notebook exemplo utiliza [markdown](https://github.com/adam-p/markdown-here/wiki/Markdown-Cheatsheet) para formatação do texto, e [LaTeX](https://en.wikibooks.org/wiki/LaTeX/Mathematics) para criação de fórmulas matemáticas."
   ]
  },
  {
   "cell_type": "markdown",
   "metadata": {
    "id": "MSrWUq2rdHu5"
   },
   "source": [
    "Suponhamos que uma professora redesenhe seu curso de história para que os alunos façam testes frequentes antes de fazer os exames.\n",
    "\n",
    "- Nota média histórica para todos os alunos antes de exames frequentes ($\\mu = 75, \\sigma = 10$);\n",
    "\n",
    "- Depois de um semestre usando esses questionários, a nota média no exame final dos 25 alunos do seu curso foi $\\bar{x} = 80$.\n",
    "\n",
    "Determinar se a amostra de alunos que respondem aos testes frequentes teve pontuação \"significativamente\" melhor do que a dos alunos anteriores."
   ]
  },
  {
   "cell_type": "markdown",
   "metadata": {
    "id": "bHO36eD_eo9T"
   },
   "source": [
    "**1** - Estabelecer as hipóóteses nula e alternativa:\n",
    "\n",
    "$H_0: \\mu_{quiz} = 75;$\n",
    "\n",
    "$H_a: \\mu_{quiz} > 75.$"
   ]
  },
  {
   "cell_type": "markdown",
   "metadata": {
    "id": "IzaE1I03eo9l"
   },
   "source": [
    "**2** - Definir a forma da região crítica, com base na hipótese alternativa.\n",
    "\n",
    "$RC = \\{ z \\in R \\mid z > z_c\\}$"
   ]
  },
  {
   "cell_type": "code",
   "execution_count": 1,
   "metadata": {
    "colab": {
     "base_uri": "https://localhost:8080/",
     "height": 269
    },
    "id": "oB9Pn2qpQUk-",
    "outputId": "1cc98e11-783b-4443-a1b6-379be9441fc3"
   },
   "outputs": [
    {
     "data": {
      "text/html": [
       "<style type=\"text/css\">\n",
       "#T_83a05_row2_col0, #T_83a05_row2_col1, #T_83a05_row2_col2 {\n",
       "  background-color: yellow;\n",
       "}\n",
       "</style>\n",
       "<table id=\"T_83a05\" class=\"dataframe\">\n",
       "  <thead>\n",
       "    <tr>\n",
       "      <th class=\"blank level0\" >&nbsp;</th>\n",
       "      <th id=\"T_83a05_level0_col0\" class=\"col_heading level0 col0\" >z</th>\n",
       "      <th id=\"T_83a05_level0_col1\" class=\"col_heading level0 col1\" >Corpo</th>\n",
       "      <th id=\"T_83a05_level0_col2\" class=\"col_heading level0 col2\" >Cauda</th>\n",
       "    </tr>\n",
       "  </thead>\n",
       "  <tbody>\n",
       "    <tr>\n",
       "      <th id=\"T_83a05_level0_row0\" class=\"row_heading level0 row0\" >0</th>\n",
       "      <td id=\"T_83a05_row0_col0\" class=\"data row0 col0\" >1.630000</td>\n",
       "      <td id=\"T_83a05_row0_col1\" class=\"data row0 col1\" >0.948400</td>\n",
       "      <td id=\"T_83a05_row0_col2\" class=\"data row0 col2\" >0.051600</td>\n",
       "    </tr>\n",
       "    <tr>\n",
       "      <th id=\"T_83a05_level0_row1\" class=\"row_heading level0 row1\" >1</th>\n",
       "      <td id=\"T_83a05_row1_col0\" class=\"data row1 col0\" >1.640000</td>\n",
       "      <td id=\"T_83a05_row1_col1\" class=\"data row1 col1\" >0.949500</td>\n",
       "      <td id=\"T_83a05_row1_col2\" class=\"data row1 col2\" >0.050500</td>\n",
       "    </tr>\n",
       "    <tr>\n",
       "      <th id=\"T_83a05_level0_row2\" class=\"row_heading level0 row2\" >2</th>\n",
       "      <td id=\"T_83a05_row2_col0\" class=\"data row2 col0\" >1.650000</td>\n",
       "      <td id=\"T_83a05_row2_col1\" class=\"data row2 col1\" >0.950500</td>\n",
       "      <td id=\"T_83a05_row2_col2\" class=\"data row2 col2\" >0.049500</td>\n",
       "    </tr>\n",
       "    <tr>\n",
       "      <th id=\"T_83a05_level0_row3\" class=\"row_heading level0 row3\" >3</th>\n",
       "      <td id=\"T_83a05_row3_col0\" class=\"data row3 col0\" >1.660000</td>\n",
       "      <td id=\"T_83a05_row3_col1\" class=\"data row3 col1\" >0.951500</td>\n",
       "      <td id=\"T_83a05_row3_col2\" class=\"data row3 col2\" >0.048500</td>\n",
       "    </tr>\n",
       "    <tr>\n",
       "      <th id=\"T_83a05_level0_row4\" class=\"row_heading level0 row4\" >4</th>\n",
       "      <td id=\"T_83a05_row4_col0\" class=\"data row4 col0\" >1.670000</td>\n",
       "      <td id=\"T_83a05_row4_col1\" class=\"data row4 col1\" >0.952500</td>\n",
       "      <td id=\"T_83a05_row4_col2\" class=\"data row4 col2\" >0.047500</td>\n",
       "    </tr>\n",
       "    <tr>\n",
       "      <th id=\"T_83a05_level0_row5\" class=\"row_heading level0 row5\" >5</th>\n",
       "      <td id=\"T_83a05_row5_col0\" class=\"data row5 col0\" >1.680000</td>\n",
       "      <td id=\"T_83a05_row5_col1\" class=\"data row5 col1\" >0.953500</td>\n",
       "      <td id=\"T_83a05_row5_col2\" class=\"data row5 col2\" >0.046500</td>\n",
       "    </tr>\n",
       "    <tr>\n",
       "      <th id=\"T_83a05_level0_row6\" class=\"row_heading level0 row6\" >6</th>\n",
       "      <td id=\"T_83a05_row6_col0\" class=\"data row6 col0\" >1.690000</td>\n",
       "      <td id=\"T_83a05_row6_col1\" class=\"data row6 col1\" >0.954500</td>\n",
       "      <td id=\"T_83a05_row6_col2\" class=\"data row6 col2\" >0.045500</td>\n",
       "    </tr>\n",
       "  </tbody>\n",
       "</table>\n"
      ],
      "text/plain": [
       "<pandas.io.formats.style.Styler at 0x7a104bfb3880>"
      ]
     },
     "execution_count": 1,
     "metadata": {},
     "output_type": "execute_result"
    }
   ],
   "source": [
    "import pandas as pd\n",
    "import numpy as np\n",
    "from scipy import stats\n",
    "\n",
    "Z = stats.norm(0,1)\n",
    "\n",
    "zs = np.arange(1.63, 1.69, 0.01)\n",
    "bodies = [round(Z.cdf(x), 4) for x in zs]\n",
    "tails = [1-x for x in bodies]\n",
    "\n",
    "df = pd.DataFrame(zip(zs, bodies, tails), columns=['z', 'Corpo', 'Cauda'])\n",
    "\n",
    "color = (df.Cauda == df.loc[2,'Cauda']).map({True: 'background-color: yellow', False: ''})\n",
    "\n",
    "df.style.apply(lambda s: color)"
   ]
  },
  {
   "cell_type": "code",
   "execution_count": 2,
   "metadata": {
    "colab": {
     "base_uri": "https://localhost:8080/",
     "height": 471
    },
    "id": "5iRVxQD-Qsai",
    "outputId": "437ee7eb-239b-49f6-c6ad-723d9f86318a"
   },
   "outputs": [
    {
     "data": {
      "text/plain": [
       "Text(0.5, 1.0, 'Distribuição Z com área acima de 1.65 destacada.')"
      ]
     },
     "execution_count": 2,
     "metadata": {},
     "output_type": "execute_result"
    },
    {
     "data": {
      "image/png": "[encoded data removed]",
      "text/plain": [
       "<Figure size 640x480 with 1 Axes>"
      ]
     },
     "metadata": {},
     "output_type": "display_data"
    }
   ],
   "source": [
    "# simular valores dentro da distribuição normal N(0,1)\n",
    "import matplotlib.pyplot as plt\n",
    "\n",
    "x=np.linspace(0-3*1, 0+3*1,1000)\n",
    "\n",
    "plt.plot(x, Z.pdf(x), color='b')\n",
    "\n",
    "zc = 1.65\n",
    "\n",
    "px=np.arange(zc,0+3*1,0.1)\n",
    "plt.fill_between(px, Z.pdf(px),color='r')\n",
    "plt.title('Distribuição Z com área acima de 1.65 destacada.')"
   ]
  },
  {
   "cell_type": "markdown",
   "metadata": {
    "id": "Gp2Alnrjeo9m"
   },
   "source": [
    "**3** - Identificar a distribuição do estimador e obter sua estimativa."
   ]
  },
  {
   "cell_type": "markdown",
   "metadata": {
    "id": "xefdqaUBQ9u_"
   },
   "source": [
    "_a. Calcule o desvio observado entre a média amostral e a média da população_\n",
    "Encontre o desvio entre a média amostral e a média populacional.\n",
    "\n",
    "$\\bar{x} - \\mu = 80 - 75 = 5$\n",
    "\n",
    "_b. Calcule o desvio esperado devido ao erro de amostragem_\n",
    "Calcule a quantidade esperada de erro amostral dado o tamanho da amostra.\n",
    "                                        \n",
    "$SEM_p = \\frac{\\sigma}{\\sqrt{N}} = \\frac{10}{\\sqrt{25}} = 2$\n",
    "\n",
    "Neste caso, o erro padrão da média é 2. Isso significa que quando N = 25, a distância típica que todas s médias amostrais possíveis estão da média populacional é 2. Esta é a quantidade de desvio que esperamos entre qualquer média amostral e a média da população devido ao erro amostral (ou seja, a diferença esperada pelo acaso).\n",
    "\n",
    "_c. Calcule o z para uma média amostral_\n",
    "Calcule o escore z obtido associado à média amostral obtida.\n",
    "\n",
    "$z = \\frac{(\\bar{x} - \\mu)}{SEM_p} = 2.5$"
   ]
  },
  {
   "cell_type": "markdown",
   "metadata": {
    "id": "i4z80NkFeo9o"
   },
   "source": [
    "**4** - Fixar o $\\alpha$ e obter a região críítica.\n",
    "\n",
    "\n",
    "$P(Z > z_c) = 0.05$"
   ]
  },
  {
   "cell_type": "code",
   "execution_count": null,
   "metadata": {
    "colab": {
     "base_uri": "https://localhost:8080/"
    },
    "id": "Yp4cYhrpeo9o",
    "outputId": "4998e618-7919-4a29-a73a-01f1b978e65d"
   },
   "outputs": [
    {
     "name": "stdout",
     "output_type": "stream",
     "text": [
      "Zc: 1.6448536269514722\n"
     ]
    }
   ],
   "source": [
    "# https://docs.scipy.org/doc/scipy/reference/generated/scipy.stats.norm.html\n",
    "from scipy import stats\n",
    "Z = stats.norm(0,1)\n",
    "print(\"Zc:\", Z.ppf(0.95))"
   ]
  },
  {
   "cell_type": "markdown",
   "metadata": {
    "id": "dsZjUmsZeo9p"
   },
   "source": [
    "**5** - Concluir o teste com base na estimativa e na região crítica."
   ]
  },
  {
   "cell_type": "markdown",
   "metadata": {
    "id": "liFNm1W-mXfa"
   },
   "source": [
    "$z_{obs} \\in RC$"
   ]
  },
  {
   "cell_type": "markdown",
   "metadata": {
    "id": "LahMUU-IpX5n"
   },
   "source": [
    "### Importante: o p-valor muito provavelmente não é igual a zero, esse valor geralemente é obtido quando a biblioteca tem uma limitação na aproximação de valores muito pequenos. É comum, em caso de não ter acesso a métodos de cálculo preciso, reportar $p-valor < 0.001$, por exemplo."
   ]
  },
  {
   "cell_type": "code",
   "execution_count": 3,
   "metadata": {
    "colab": {
     "base_uri": "https://localhost:8080/"
    },
    "id": "KcM9qHdBeo9q",
    "outputId": "59f09fd9-4217-4878-baa9-df5c4668b3d1"
   },
   "outputs": [
    {
     "name": "stdout",
     "output_type": "stream",
     "text": [
      "pvalue= 0.006209665325776159\n"
     ]
    }
   ],
   "source": [
    "print('pvalue=', 1-Z.cdf(2.5))"
   ]
  },
  {
   "cell_type": "markdown",
   "metadata": {
    "id": "BLLzSjzrSEOL"
   },
   "source": [
    "**Reproduzir o gráfico de densidade normal com função normal**"
   ]
  },
  {
   "cell_type": "code",
   "execution_count": 5,
   "metadata": {
    "id": "FTDmcnrytbd-"
   },
   "outputs": [],
   "source": [
    "import numpy as np\n",
    "\n",
    "def normal_density(x, mu, sigma):\n",
    "    y = (1/(sigma*np.sqrt(2*np.pi)))*np.exp(-0.5*((x-mu)/sigma)**2)\n",
    "    return y"
   ]
  },
  {
   "cell_type": "code",
   "execution_count": 4,
   "metadata": {
    "id": "SzdzVrRWuScW"
   },
   "outputs": [],
   "source": [
    "x = np.linspace(-3, 3, 1000)"
   ]
  },
  {
   "cell_type": "code",
   "execution_count": 6,
   "metadata": {
    "colab": {
     "base_uri": "https://localhost:8080/"
    },
    "id": "0qjh52_DuWeK",
    "outputId": "1f7572a8-0ef3-4d7c-9b82-28193201acde"
   },
   "outputs": [
    {
     "data": {
      "text/plain": [
       "array([0.00443185, 0.00451234, 0.00459414, 0.00467724, 0.00476168,\n",
       "       0.00484747, 0.00493462, 0.00502316, 0.0051131 , 0.00520447,\n",
       "       0.00529728, 0.00539155, 0.0054873 , 0.00558454, 0.00568331,\n",
       "       0.00578361, 0.00588548, 0.00598892, 0.00609396, 0.00620061,\n",
       "       0.00630891, 0.00641886, 0.0065305 , 0.00664384, 0.0067589 ,\n",
       "       0.00687571, 0.00699428, 0.00711464, 0.00723681, 0.00736082,\n",
       "       0.00748668, 0.00761441, 0.00774405, 0.00787561, 0.00800911,\n",
       "       0.00814458, 0.00828205, 0.00842153, 0.00856306, 0.00870665,\n",
       "       0.00885232, 0.00900011, 0.00915004, 0.00930212, 0.0094564 ,\n",
       "       0.00961289, 0.00977161, 0.0099326 , 0.01009587, 0.01026146,\n",
       "       0.01042939, 0.01059968, 0.01077237, 0.01094747, 0.01112502,\n",
       "       0.01130504, 0.01148756, 0.0116726 , 0.0118602 , 0.01205038,\n",
       "       0.01224317, 0.01243859, 0.01263667, 0.01283745, 0.01304095,\n",
       "       0.01324719, 0.01345621, 0.01366804, 0.0138827 , 0.01410022,\n",
       "       0.01432063, 0.01454397, 0.01477025, 0.01499952, 0.01523179,\n",
       "       0.0154671 , 0.01570548, 0.01594696, 0.01619157, 0.01643934,\n",
       "       0.0166903 , 0.01694447, 0.0172019 , 0.01746261, 0.01772663,\n",
       "       0.01799399, 0.01826473, 0.01853887, 0.01881644, 0.01909749,\n",
       "       0.01938203, 0.0196701 , 0.01996174, 0.02025696, 0.02055581,\n",
       "       0.02085832, 0.02116452, 0.02147444, 0.02178811, 0.02210556,\n",
       "       0.02242683, 0.02275195, 0.02308095, 0.02341386, 0.02375072,\n",
       "       0.02409155, 0.02443639, 0.02478528, 0.02513824, 0.02549531,\n",
       "       0.02585651, 0.02622189, 0.02659147, 0.02696529, 0.02734337,\n",
       "       0.02772576, 0.02811248, 0.02850357, 0.02889905, 0.02929897,\n",
       "       0.02970335, 0.03011222, 0.03052562, 0.03094358, 0.03136613,\n",
       "       0.0317933 , 0.03222513, 0.03266165, 0.03310288, 0.03354887,\n",
       "       0.03399963, 0.03445522, 0.03491564, 0.03538094, 0.03585115,\n",
       "       0.0363263 , 0.03680642, 0.03729154, 0.03778169, 0.0382769 ,\n",
       "       0.03877721, 0.03928263, 0.03979321, 0.04030897, 0.04082994,\n",
       "       0.04135616, 0.04188764, 0.04242443, 0.04296654, 0.04351401,\n",
       "       0.04406687, 0.04462514, 0.04518886, 0.04575804, 0.04633272,\n",
       "       0.04691293, 0.04749869, 0.04809003, 0.04868697, 0.04928955,\n",
       "       0.04989779, 0.0505117 , 0.05113133, 0.05175669, 0.05238781,\n",
       "       0.05302472, 0.05366743, 0.05431597, 0.05497036, 0.05563064,\n",
       "       0.05629681, 0.0569689 , 0.05764694, 0.05833095, 0.05902094,\n",
       "       0.05971694, 0.06041897, 0.06112704, 0.06184119, 0.06256142,\n",
       "       0.06328775, 0.06402021, 0.06475881, 0.06550357, 0.0662545 ,\n",
       "       0.06701163, 0.06777496, 0.06854451, 0.0693203 , 0.07010235,\n",
       "       0.07089065, 0.07168524, 0.07248612, 0.0732933 , 0.0741068 ,\n",
       "       0.07492663, 0.07575279, 0.07658529, 0.07742416, 0.07826939,\n",
       "       0.07912099, 0.07997897, 0.08084334, 0.08171411, 0.08259127,\n",
       "       0.08347484, 0.08436482, 0.08526121, 0.08616402, 0.08707324,\n",
       "       0.08798889, 0.08891096, 0.08983945, 0.09077436, 0.09171569,\n",
       "       0.09266344, 0.09361761, 0.09457819, 0.09554518, 0.09651858,\n",
       "       0.09749837, 0.09848456, 0.09947714, 0.10047609, 0.10148142,\n",
       "       0.10249311, 0.10351115, 0.10453553, 0.10556624, 0.10660327,\n",
       "       0.1076466 , 0.10869622, 0.10975212, 0.11081428, 0.11188268,\n",
       "       0.1129573 , 0.11403814, 0.11512516, 0.11621835, 0.1173177 ,\n",
       "       0.11842317, 0.11953474, 0.12065239, 0.12177611, 0.12290585,\n",
       "       0.1240416 , 0.12518333, 0.12633102, 0.12748462, 0.12864412,\n",
       "       0.12980948, 0.13098068, 0.13215767, 0.13334043, 0.13452893,\n",
       "       0.13572312, 0.13692297, 0.13812845, 0.13933951, 0.14055612,\n",
       "       0.14177824, 0.14300583, 0.14423884, 0.14547724, 0.14672098,\n",
       "       0.14797001, 0.14922429, 0.15048378, 0.15174842, 0.15301817,\n",
       "       0.15429298, 0.1555728 , 0.15685757, 0.15814725, 0.15944179,\n",
       "       0.16074112, 0.16204519, 0.16335395, 0.16466735, 0.16598531,\n",
       "       0.16730779, 0.16863472, 0.16996604, 0.1713017 , 0.17264162,\n",
       "       0.17398575, 0.17533402, 0.17668636, 0.17804271, 0.179403  ,\n",
       "       0.18076717, 0.18213513, 0.18350683, 0.18488219, 0.18626114,\n",
       "       0.18764361, 0.18902951, 0.19041879, 0.19181136, 0.19320714,\n",
       "       0.19460606, 0.19600803, 0.19741299, 0.19882084, 0.20023151,\n",
       "       0.20164492, 0.20306097, 0.2044796 , 0.20590071, 0.20732422,\n",
       "       0.20875004, 0.21017808, 0.21160826, 0.21304048, 0.21447466,\n",
       "       0.21591071, 0.21734854, 0.21878804, 0.22022914, 0.22167173,\n",
       "       0.22311572, 0.22456102, 0.22600753, 0.22745515, 0.22890379,\n",
       "       0.23035334, 0.23180371, 0.2332548 , 0.2347065 , 0.23615873,\n",
       "       0.23761136, 0.23906431, 0.24051746, 0.24197072, 0.24342398,\n",
       "       0.24487714, 0.24633008, 0.24778271, 0.24923491, 0.25068658,\n",
       "       0.25213761, 0.25358789, 0.25503732, 0.25648577, 0.25793315,\n",
       "       0.25937934, 0.26082423, 0.26226771, 0.26370966, 0.26514998,\n",
       "       0.26658854, 0.26802524, 0.26945997, 0.2708926 , 0.27232303,\n",
       "       0.27375114, 0.2751768 , 0.27659992, 0.27802036, 0.27943802,\n",
       "       0.28085278, 0.28226452, 0.28367312, 0.28507847, 0.28648045,\n",
       "       0.28787893, 0.28927381, 0.29066496, 0.29205227, 0.29343561,\n",
       "       0.29481487, 0.29618993, 0.29756067, 0.29892697, 0.30028871,\n",
       "       0.30164578, 0.30299804, 0.30434539, 0.3056877 , 0.30702486,\n",
       "       0.30835675, 0.30968324, 0.31100422, 0.31231957, 0.31362916,\n",
       "       0.31493289, 0.31623063, 0.31752226, 0.31880767, 0.32008674,\n",
       "       0.32135934, 0.32262537, 0.3238847 , 0.32513722, 0.32638281,\n",
       "       0.32762135, 0.32885273, 0.33007683, 0.33129354, 0.33250274,\n",
       "       0.33370431, 0.33489814, 0.33608413, 0.33726214, 0.33843208,\n",
       "       0.33959383, 0.34074727, 0.34189229, 0.34302879, 0.34415666,\n",
       "       0.34527577, 0.34638604, 0.34748733, 0.34857955, 0.3496626 ,\n",
       "       0.35073635, 0.35180072, 0.35285558, 0.35390084, 0.3549364 ,\n",
       "       0.35596214, 0.35697797, 0.35798379, 0.35897949, 0.35996497,\n",
       "       0.36094014, 0.3619049 , 0.36285915, 0.36380279, 0.36473572,\n",
       "       0.36565786, 0.36656911, 0.36746937, 0.36835856, 0.36923658,\n",
       "       0.37010334, 0.37095875, 0.37180273, 0.37263518, 0.37345603,\n",
       "       0.37426519, 0.37506257, 0.37584809, 0.37662167, 0.37738323,\n",
       "       0.37813269, 0.37886997, 0.37959499, 0.38030768, 0.38100797,\n",
       "       0.38169578, 0.38237104, 0.38303367, 0.38368361, 0.38432079,\n",
       "       0.38494515, 0.38555661, 0.38615511, 0.38674059, 0.38731298,\n",
       "       0.38787223, 0.38841828, 0.38895107, 0.38947053, 0.38997663,\n",
       "       0.39046929, 0.39094848, 0.39141413, 0.39186621, 0.39230465,\n",
       "       0.39272942, 0.39314046, 0.39353774, 0.39392121, 0.39429084,\n",
       "       0.39464657, 0.39498838, 0.39531622, 0.39563006, 0.39592987,\n",
       "       0.39621561, 0.39648726, 0.39674478, 0.39698815, 0.39721734,\n",
       "       0.39743232, 0.39763308, 0.39781959, 0.39799183, 0.39814978,\n",
       "       0.39829343, 0.39842276, 0.39853775, 0.39863839, 0.39872468,\n",
       "       0.3987966 , 0.39885415, 0.39889731, 0.39892609, 0.39894048,\n",
       "       0.39894048, 0.39892609, 0.39889731, 0.39885415, 0.3987966 ,\n",
       "       0.39872468, 0.39863839, 0.39853775, 0.39842276, 0.39829343,\n",
       "       0.39814978, 0.39799183, 0.39781959, 0.39763308, 0.39743232,\n",
       "       0.39721734, 0.39698815, 0.39674478, 0.39648726, 0.39621561,\n",
       "       0.39592987, 0.39563006, 0.39531622, 0.39498838, 0.39464657,\n",
       "       0.39429084, 0.39392121, 0.39353774, 0.39314046, 0.39272942,\n",
       "       0.39230465, 0.39186621, 0.39141413, 0.39094848, 0.39046929,\n",
       "       0.38997663, 0.38947053, 0.38895107, 0.38841828, 0.38787223,\n",
       "       0.38731298, 0.38674059, 0.38615511, 0.38555661, 0.38494515,\n",
       "       0.38432079, 0.38368361, 0.38303367, 0.38237104, 0.38169578,\n",
       "       0.38100797, 0.38030768, 0.37959499, 0.37886997, 0.37813269,\n",
       "       0.37738323, 0.37662167, 0.37584809, 0.37506257, 0.37426519,\n",
       "       0.37345603, 0.37263518, 0.37180273, 0.37095875, 0.37010334,\n",
       "       0.36923658, 0.36835856, 0.36746937, 0.36656911, 0.36565786,\n",
       "       0.36473572, 0.36380279, 0.36285915, 0.3619049 , 0.36094014,\n",
       "       0.35996497, 0.35897949, 0.35798379, 0.35697797, 0.35596214,\n",
       "       0.3549364 , 0.35390084, 0.35285558, 0.35180072, 0.35073635,\n",
       "       0.3496626 , 0.34857955, 0.34748733, 0.34638604, 0.34527577,\n",
       "       0.34415666, 0.34302879, 0.34189229, 0.34074727, 0.33959383,\n",
       "       0.33843208, 0.33726214, 0.33608413, 0.33489814, 0.33370431,\n",
       "       0.33250274, 0.33129354, 0.33007683, 0.32885273, 0.32762135,\n",
       "       0.32638281, 0.32513722, 0.3238847 , 0.32262537, 0.32135934,\n",
       "       0.32008674, 0.31880767, 0.31752226, 0.31623063, 0.31493289,\n",
       "       0.31362916, 0.31231957, 0.31100422, 0.30968324, 0.30835675,\n",
       "       0.30702486, 0.3056877 , 0.30434539, 0.30299804, 0.30164578,\n",
       "       0.30028871, 0.29892697, 0.29756067, 0.29618993, 0.29481487,\n",
       "       0.29343561, 0.29205227, 0.29066496, 0.28927381, 0.28787893,\n",
       "       0.28648045, 0.28507847, 0.28367312, 0.28226452, 0.28085278,\n",
       "       0.27943802, 0.27802036, 0.27659992, 0.2751768 , 0.27375114,\n",
       "       0.27232303, 0.2708926 , 0.26945997, 0.26802524, 0.26658854,\n",
       "       0.26514998, 0.26370966, 0.26226771, 0.26082423, 0.25937934,\n",
       "       0.25793315, 0.25648577, 0.25503732, 0.25358789, 0.25213761,\n",
       "       0.25068658, 0.24923491, 0.24778271, 0.24633008, 0.24487714,\n",
       "       0.24342398, 0.24197072, 0.24051746, 0.23906431, 0.23761136,\n",
       "       0.23615873, 0.2347065 , 0.2332548 , 0.23180371, 0.23035334,\n",
       "       0.22890379, 0.22745515, 0.22600753, 0.22456102, 0.22311572,\n",
       "       0.22167173, 0.22022914, 0.21878804, 0.21734854, 0.21591071,\n",
       "       0.21447466, 0.21304048, 0.21160826, 0.21017808, 0.20875004,\n",
       "       0.20732422, 0.20590071, 0.2044796 , 0.20306097, 0.20164492,\n",
       "       0.20023151, 0.19882084, 0.19741299, 0.19600803, 0.19460606,\n",
       "       0.19320714, 0.19181136, 0.19041879, 0.18902951, 0.18764361,\n",
       "       0.18626114, 0.18488219, 0.18350683, 0.18213513, 0.18076717,\n",
       "       0.179403  , 0.17804271, 0.17668636, 0.17533402, 0.17398575,\n",
       "       0.17264162, 0.1713017 , 0.16996604, 0.16863472, 0.16730779,\n",
       "       0.16598531, 0.16466735, 0.16335395, 0.16204519, 0.16074112,\n",
       "       0.15944179, 0.15814725, 0.15685757, 0.1555728 , 0.15429298,\n",
       "       0.15301817, 0.15174842, 0.15048378, 0.14922429, 0.14797001,\n",
       "       0.14672098, 0.14547724, 0.14423884, 0.14300583, 0.14177824,\n",
       "       0.14055612, 0.13933951, 0.13812845, 0.13692297, 0.13572312,\n",
       "       0.13452893, 0.13334043, 0.13215767, 0.13098068, 0.12980948,\n",
       "       0.12864412, 0.12748462, 0.12633102, 0.12518333, 0.1240416 ,\n",
       "       0.12290585, 0.12177611, 0.12065239, 0.11953474, 0.11842317,\n",
       "       0.1173177 , 0.11621835, 0.11512516, 0.11403814, 0.1129573 ,\n",
       "       0.11188268, 0.11081428, 0.10975212, 0.10869622, 0.1076466 ,\n",
       "       0.10660327, 0.10556624, 0.10453553, 0.10351115, 0.10249311,\n",
       "       0.10148142, 0.10047609, 0.09947714, 0.09848456, 0.09749837,\n",
       "       0.09651858, 0.09554518, 0.09457819, 0.09361761, 0.09266344,\n",
       "       0.09171569, 0.09077436, 0.08983945, 0.08891096, 0.08798889,\n",
       "       0.08707324, 0.08616402, 0.08526121, 0.08436482, 0.08347484,\n",
       "       0.08259127, 0.08171411, 0.08084334, 0.07997897, 0.07912099,\n",
       "       0.07826939, 0.07742416, 0.07658529, 0.07575279, 0.07492663,\n",
       "       0.0741068 , 0.0732933 , 0.07248612, 0.07168524, 0.07089065,\n",
       "       0.07010235, 0.0693203 , 0.06854451, 0.06777496, 0.06701163,\n",
       "       0.0662545 , 0.06550357, 0.06475881, 0.06402021, 0.06328775,\n",
       "       0.06256142, 0.06184119, 0.06112704, 0.06041897, 0.05971694,\n",
       "       0.05902094, 0.05833095, 0.05764694, 0.0569689 , 0.05629681,\n",
       "       0.05563064, 0.05497036, 0.05431597, 0.05366743, 0.05302472,\n",
       "       0.05238781, 0.05175669, 0.05113133, 0.0505117 , 0.04989779,\n",
       "       0.04928955, 0.04868697, 0.04809003, 0.04749869, 0.04691293,\n",
       "       0.04633272, 0.04575804, 0.04518886, 0.04462514, 0.04406687,\n",
       "       0.04351401, 0.04296654, 0.04242443, 0.04188764, 0.04135616,\n",
       "       0.04082994, 0.04030897, 0.03979321, 0.03928263, 0.03877721,\n",
       "       0.0382769 , 0.03778169, 0.03729154, 0.03680642, 0.0363263 ,\n",
       "       0.03585115, 0.03538094, 0.03491564, 0.03445522, 0.03399963,\n",
       "       0.03354887, 0.03310288, 0.03266165, 0.03222513, 0.0317933 ,\n",
       "       0.03136613, 0.03094358, 0.03052562, 0.03011222, 0.02970335,\n",
       "       0.02929897, 0.02889905, 0.02850357, 0.02811248, 0.02772576,\n",
       "       0.02734337, 0.02696529, 0.02659147, 0.02622189, 0.02585651,\n",
       "       0.02549531, 0.02513824, 0.02478528, 0.02443639, 0.02409155,\n",
       "       0.02375072, 0.02341386, 0.02308095, 0.02275195, 0.02242683,\n",
       "       0.02210556, 0.02178811, 0.02147444, 0.02116452, 0.02085832,\n",
       "       0.02055581, 0.02025696, 0.01996174, 0.0196701 , 0.01938203,\n",
       "       0.01909749, 0.01881644, 0.01853887, 0.01826473, 0.01799399,\n",
       "       0.01772663, 0.01746261, 0.0172019 , 0.01694447, 0.0166903 ,\n",
       "       0.01643934, 0.01619157, 0.01594696, 0.01570548, 0.0154671 ,\n",
       "       0.01523179, 0.01499952, 0.01477025, 0.01454397, 0.01432063,\n",
       "       0.01410022, 0.0138827 , 0.01366804, 0.01345621, 0.01324719,\n",
       "       0.01304095, 0.01283745, 0.01263667, 0.01243859, 0.01224317,\n",
       "       0.01205038, 0.0118602 , 0.0116726 , 0.01148756, 0.01130504,\n",
       "       0.01112502, 0.01094747, 0.01077237, 0.01059968, 0.01042939,\n",
       "       0.01026146, 0.01009587, 0.0099326 , 0.00977161, 0.00961289,\n",
       "       0.0094564 , 0.00930212, 0.00915004, 0.00900011, 0.00885232,\n",
       "       0.00870665, 0.00856306, 0.00842153, 0.00828205, 0.00814458,\n",
       "       0.00800911, 0.00787561, 0.00774405, 0.00761441, 0.00748668,\n",
       "       0.00736082, 0.00723681, 0.00711464, 0.00699428, 0.00687571,\n",
       "       0.0067589 , 0.00664384, 0.0065305 , 0.00641886, 0.00630891,\n",
       "       0.00620061, 0.00609396, 0.00598892, 0.00588548, 0.00578361,\n",
       "       0.00568331, 0.00558454, 0.0054873 , 0.00539155, 0.00529728,\n",
       "       0.00520447, 0.0051131 , 0.00502316, 0.00493462, 0.00484747,\n",
       "       0.00476168, 0.00467724, 0.00459414, 0.00451234, 0.00443185])"
      ]
     },
     "execution_count": 6,
     "metadata": {},
     "output_type": "execute_result"
    }
   ],
   "source": [
    "normal_density(x, 0, 1)"
   ]
  },
  {
   "cell_type": "code",
   "execution_count": 7,
   "metadata": {
    "colab": {
     "base_uri": "https://localhost:8080/",
     "height": 448
    },
    "id": "Wr4lIQutuvfZ",
    "outputId": "216948ff-2db6-4b69-afe4-a95e858bd6ed"
   },
   "outputs": [
    {
     "data": {
      "text/plain": [
       "[<matplotlib.lines.Line2D at 0x7a100b52a530>]"
      ]
     },
     "execution_count": 7,
     "metadata": {},
     "output_type": "execute_result"
    },
    {
     "data": {
      "image/png": "[encoded data removed]",
      "text/plain": [
       "<Figure size 640x480 with 1 Axes>"
      ]
     },
     "metadata": {},
     "output_type": "display_data"
    }
   ],
   "source": [
    "import matplotlib.pyplot as plt\n",
    "\n",
    "plt.plot(x, normal_density(x, 0, 1))"
   ]
  }
 ],
 "metadata": {
  "colab": {
   "provenance": []
  },
  "kernelspec": {
   "display_name": "Python 3",
   "name": "python3"
  },
  "language_info": {
   "name": "python"
  }
 },
 "nbformat": 4,
 "nbformat_minor": 0
}
