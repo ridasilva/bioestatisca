{
 "cells": [
  {
   "cell_type": "markdown",
   "metadata": {
    "id": "Po0eGhFFLO2M"
   },
   "source": [
    "**Exemplo 9.16**\n",
    "\n",
    "D | A | E | 0\n",
    "-- | -- | -- | --\n",
    "24.9 | 27.9 | 38.4 | 23.8\n",
    "20.4 | 28.1 | 38.6 | 25.3\n",
    "24.2 | 28.4 | 41.2 | 23.5\n",
    "22.3 | 25.3 | 43.9 | 27.6\n",
    "20.3 | 29.3 | 40.2 | 25.5\n",
    "24 | 28.5 | 40.2 | 23.9\n",
    "23.5 | 27.9 | 37.3 | 22.6\n"
   ]
  },
  {
   "cell_type": "code",
   "execution_count": null,
   "metadata": {
    "id": "zQcotSbMODJr"
   },
   "outputs": [],
   "source": []
  },
  {
   "cell_type": "code",
   "execution_count": null,
   "metadata": {
    "colab": {
     "base_uri": "https://localhost:8080/"
    },
    "id": "RoGXQm6QKmmV",
    "outputId": "fea2aa34-c914-4c58-e40d-69e79bd90aae"
   },
   "outputs": [
    {
     "name": "stdout",
     "output_type": "stream",
     "text": [
      "Y1: 22.8\n",
      "Y2: 27.914285714285715\n",
      "Y3: 39.971428571428575\n",
      "Y4: 24.599999999999998\n"
     ]
    }
   ],
   "source": [
    "import numpy as np\n",
    "\n",
    "d = np.array([24.9, 20.4, 24.2, 22.3, 20.3, 24, 23.5])\n",
    "a = np.array([27.9, 28.1, 28.4, 25.3, 29.3, 28.5, 27.9])\n",
    "e = np.array([38.4, 38.6, 41.2, 43.9, 40.2, 40.2, 37.3])\n",
    "o = np.array([23.8, 25.3, 23.5, 27.6, 25.5, 23.9, 22.6])\n",
    "\n",
    "y_bar_1 = d.mean()\n",
    "y_bar_2 = a.mean()\n",
    "y_bar_3 = e.mean()\n",
    "y_bar_4 = o.mean()\n",
    "\n",
    "print(\"Y1:\", y_bar_1)\n",
    "print(\"Y2:\", y_bar_2)\n",
    "print(\"Y3:\", y_bar_3)\n",
    "print(\"Y4:\", y_bar_4)"
   ]
  },
  {
   "cell_type": "code",
   "execution_count": null,
   "metadata": {
    "colab": {
     "base_uri": "https://localhost:8080/",
     "height": 370
    },
    "id": "-Nw4a6HfzfJZ",
    "outputId": "4c8ab6e3-bd84-472c-cfa8-1b5d32b7843a"
   },
   "outputs": [
    {
     "data": {
      "text/plain": [
       "([<matplotlib.axis.XTick at 0x7f85e8c792d0>,\n",
       "  <matplotlib.axis.XTick at 0x7f85e8c79650>,\n",
       "  <matplotlib.axis.XTick at 0x7f85e88912d0>,\n",
       "  <matplotlib.axis.XTick at 0x7f85e88c7850>],\n",
       " [Text(0, 0, 'D'), Text(0, 0, 'A'), Text(0, 0, 'E'), Text(0, 0, 'O')])"
      ]
     },
     "execution_count": 5,
     "metadata": {
      "tags": []
     },
     "output_type": "execute_result"
    },
    {
     "data": {
      "image/png": "[encoded data removed]",
      "text/plain": [
       "<Figure size 432x288 with 1 Axes>"
      ]
     },
     "metadata": {
      "needs_background": "light",
      "tags": []
     },
     "output_type": "display_data"
    }
   ],
   "source": [
    "import matplotlib.pyplot as plt\n",
    "\n",
    "plt.boxplot([d, a, e, o])\n",
    "plt.xlabel('Tipo de Carga')\n",
    "plt.ylabel('Peso')\n",
    "\n",
    "plt.xticks([1, 2, 3, 4], ['D', 'A', 'E', 'O'])"
   ]
  },
  {
   "cell_type": "markdown",
   "metadata": {
    "id": "r9E_URsBPLpE"
   },
   "source": [
    "Somar todos os elementos elevados ao quadrado\n",
    "\n",
    "$\\sum_{i=1}^{4}\\sum_{j=1}^{7} Y_{ij}^2$\n",
    "\n",
    "Soma das médias ao quadrado\n",
    "\n",
    "$\\sum_{i=1}^{4} \\bar{Y}_i^2$"
   ]
  },
  {
   "cell_type": "code",
   "execution_count": null,
   "metadata": {
    "colab": {
     "base_uri": "https://localhost:8080/"
    },
    "id": "FZuCobHbQBFF",
    "outputId": "213c49b6-0ac0-4512-8eb5-3b5797cad804"
   },
   "outputs": [
    {
     "name": "stdout",
     "output_type": "stream",
     "text": [
      "Yij2: 24588.559999999998\n",
      "Y_bar_2: 3501.9224489795924\n"
     ]
    }
   ],
   "source": [
    "Y_ij_2 = (np.concatenate([d, a, e, o])**2).sum()\n",
    "print('Yij2:', Y_ij_2)\n",
    "\n",
    "Y_bar_2 = (np.array([y_bar_1, y_bar_2, y_bar_3, y_bar_4])**2).sum()\n",
    "print('Y_bar_2:', Y_bar_2)"
   ]
  },
  {
   "cell_type": "markdown",
   "metadata": {
    "id": "HbCBHy16UTye"
   },
   "source": [
    "_Somas de Quadrados_\n",
    "\n",
    "$ SQD = \\sum_{i=1}^K\\sum_{j=1}^m(Y_{ij}-\\hat{\\mu}_i)^2 = \\sum_{i=1}^K\\sum_{j=1}^m(Y_{ij}-\\bar{Y}_i)^2 = \\sum_{i=1}^K\\sum_{j=1}^mY_{ij}^2-m\\sum_{i=1}^K\\bar{Y}_i^2 $\n",
    "\n",
    "$ SQE = m\\sum_{i=1}^K(\\bar{Y}_{i}-\\bar{Y})^2 = m(\\sum_{i=1}^K\\bar{Y}^2_{i}-K\\bar{Y}^2) $\n",
    "\n",
    "$ SQT = \\sum_{i=1}^K\\sum_{j=1}^m(Y_{ij}-\\hat{\\mu})^2 = \\sum_{i=1}^K\\sum_{j=1}^m(Y_{ij}-\\bar{Y})^2 = \\sum_{i=1}^K\\sum_{j=1}^mY_{ij}^2-mK\\bar{Y}^2 $"
   ]
  },
  {
   "cell_type": "code",
   "execution_count": null,
   "metadata": {
    "colab": {
     "base_uri": "https://localhost:8080/"
    },
    "id": "e12XPun6QFJ6",
    "outputId": "0b6b4f72-e49c-4b39-e278-d27f25f4e6ac"
   },
   "outputs": [
    {
     "name": "stdout",
     "output_type": "stream",
     "text": [
      "SQD: 75.10285714285055\n",
      "SQE: 1254.5642857142875\n",
      "SQT: 1329.667142857139\n"
     ]
    }
   ],
   "source": [
    "m = 7\n",
    "k = 4\n",
    "Y_bar = np.concatenate([d, a, e, o]).mean()\n",
    "\n",
    "SQD = Y_ij_2-m*Y_bar_2\n",
    "SQE = m*(Y_bar_2-k*(Y_bar**2))\n",
    "SQT = Y_ij_2-m*k*(Y_bar**2)\n",
    "\n",
    "print('SQD:', SQD)\n",
    "print('SQE:', SQE)\n",
    "print('SQT:', SQT)"
   ]
  },
  {
   "cell_type": "code",
   "execution_count": null,
   "metadata": {
    "colab": {
     "base_uri": "https://localhost:8080/"
    },
    "id": "VBt5ZGhyXH2o",
    "outputId": "8206f694-8096-489c-ce07-a26adefac29d"
   },
   "outputs": [
    {
     "data": {
      "text/plain": [
       "1329.667142857138"
      ]
     },
     "execution_count": 12,
     "metadata": {
      "tags": []
     },
     "output_type": "execute_result"
    }
   ],
   "source": [
    "SQD+SQE"
   ]
  },
  {
   "cell_type": "code",
   "execution_count": null,
   "metadata": {
    "colab": {
     "base_uri": "https://localhost:8080/"
    },
    "id": "CRRz7vBbXXUE",
    "outputId": "d6ae59b8-b1f1-4677-b5a0-85924ae0e06b"
   },
   "outputs": [
    {
     "name": "stdout",
     "output_type": "stream",
     "text": [
      "QMD: 3.1292857142854396\n",
      "QME: 418.18809523809585\n",
      "f_obs: 133.63691699004465\n"
     ]
    }
   ],
   "source": [
    "QME = SQE/(k-1)\n",
    "QMD = SQD/(k*(m-1))\n",
    "\n",
    "f_obs = QME/QMD\n",
    "\n",
    "print('QMD:', QMD)\n",
    "print('QME:', QME)\n",
    "print('f_obs:', f_obs)"
   ]
  },
  {
   "cell_type": "code",
   "execution_count": null,
   "metadata": {
    "id": "TbVAN4xvYFZn"
   },
   "outputs": [],
   "source": [
    "from scipy import stats\n",
    "\n",
    "fdist = stats.f(3, 24)"
   ]
  },
  {
   "cell_type": "code",
   "execution_count": null,
   "metadata": {
    "colab": {
     "base_uri": "https://localhost:8080/"
    },
    "id": "mvr2oAQoYqbB",
    "outputId": "1bb352aa-51a0-4b1f-b76e-69c86df70508"
   },
   "outputs": [
    {
     "name": "stdout",
     "output_type": "stream",
     "text": [
      "f_calc: 3.0087865704473615\n"
     ]
    }
   ],
   "source": [
    "fc = fdist.ppf(0.95)\n",
    "print('f_calc:', fc)"
   ]
  },
  {
   "cell_type": "code",
   "execution_count": null,
   "metadata": {
    "id": "B8yf_QuRY1lM"
   },
   "outputs": [],
   "source": [
    "import statsmodels.api as sm\n",
    "from statsmodels.formula.api import ols\n",
    "import pandas as pd"
   ]
  },
  {
   "cell_type": "code",
   "execution_count": null,
   "metadata": {
    "colab": {
     "base_uri": "https://localhost:8080/",
     "height": 206
    },
    "id": "w4HAPNfWZ-Gz",
    "outputId": "6f276337-99e8-406e-cecd-84f5f2557208"
   },
   "outputs": [
    {
     "data": {
      "text/html": [
       "<div>\n",
       "<style scoped>\n",
       "    .dataframe tbody tr th:only-of-type {\n",
       "        vertical-align: middle;\n",
       "    }\n",
       "\n",
       "    .dataframe tbody tr th {\n",
       "        vertical-align: top;\n",
       "    }\n",
       "\n",
       "    .dataframe thead th {\n",
       "        text-align: right;\n",
       "    }\n",
       "</style>\n",
       "<table border=\"1\" class=\"dataframe\">\n",
       "  <thead>\n",
       "    <tr style=\"text-align: right;\">\n",
       "      <th></th>\n",
       "      <th>Tipo_Carga</th>\n",
       "      <th>Peso</th>\n",
       "    </tr>\n",
       "  </thead>\n",
       "  <tbody>\n",
       "    <tr>\n",
       "      <th>0</th>\n",
       "      <td>d</td>\n",
       "      <td>24.9</td>\n",
       "    </tr>\n",
       "    <tr>\n",
       "      <th>1</th>\n",
       "      <td>a</td>\n",
       "      <td>27.9</td>\n",
       "    </tr>\n",
       "    <tr>\n",
       "      <th>2</th>\n",
       "      <td>e</td>\n",
       "      <td>38.4</td>\n",
       "    </tr>\n",
       "    <tr>\n",
       "      <th>3</th>\n",
       "      <td>o</td>\n",
       "      <td>23.8</td>\n",
       "    </tr>\n",
       "    <tr>\n",
       "      <th>4</th>\n",
       "      <td>d</td>\n",
       "      <td>20.4</td>\n",
       "    </tr>\n",
       "  </tbody>\n",
       "</table>\n",
       "</div>"
      ],
      "text/plain": [
       "  Tipo_Carga  Peso\n",
       "0          d  24.9\n",
       "1          a  27.9\n",
       "2          e  38.4\n",
       "3          o  23.8\n",
       "4          d  20.4"
      ]
     },
     "execution_count": 42,
     "metadata": {
      "tags": []
     },
     "output_type": "execute_result"
    }
   ],
   "source": [
    "df = pd.DataFrame([d, a, e, o],\n",
    "             index=['d', 'a', 'e', 'o']).T.stack().reset_index().drop('level_0', axis=1)\n",
    "df.columns = ['Tipo_Carga', 'Peso']\n",
    "\n",
    "df.head()"
   ]
  },
  {
   "cell_type": "code",
   "execution_count": null,
   "metadata": {
    "id": "rRUcUWiMaLBt"
   },
   "outputs": [],
   "source": [
    "# https://www.statsmodels.org/stable/anova.html\n",
    "cargas_lm = ols('Peso ~ Tipo_Carga',\n",
    "                data=df).fit()"
   ]
  },
  {
   "cell_type": "code",
   "execution_count": null,
   "metadata": {
    "colab": {
     "base_uri": "https://localhost:8080/"
    },
    "id": "ULcl_Z1efD7-",
    "outputId": "fe370326-90c7-4339-aec1-22c62847457a"
   },
   "outputs": [
    {
     "name": "stdout",
     "output_type": "stream",
     "text": [
      "                 sum_sq    df           F        PR(>F)\n",
      "Tipo_Carga  1254.564286   3.0  133.636917  4.136050e-15\n",
      "Residual      75.102857  24.0         NaN           NaN\n"
     ]
    }
   ],
   "source": [
    "table = sm.stats.anova_lm(cargas_lm, typ=2) # Type 2 Anova DataFrame\n",
    "print(table)"
   ]
  },
  {
   "cell_type": "code",
   "execution_count": null,
   "metadata": {
    "colab": {
     "base_uri": "https://localhost:8080/"
    },
    "id": "TLJHUopkegYm",
    "outputId": "187f7229-bc4b-41f8-a4a5-fbf339442c92"
   },
   "outputs": [
    {
     "name": "stdout",
     "output_type": "stream",
     "text": [
      "p-valor: 4.107825191113079e-15\n"
     ]
    }
   ],
   "source": [
    "pvalor = 1-fdist.cdf(f_obs)\n",
    "print('p-valor:', pvalor)"
   ]
  },
  {
   "cell_type": "code",
   "execution_count": null,
   "metadata": {
    "id": "7DHbS4QcgN1Y"
   },
   "outputs": [],
   "source": []
  }
 ],
 "metadata": {
  "colab": {
   "provenance": []
  },
  "kernelspec": {
   "display_name": "Python 3",
   "name": "python3"
  },
  "language_info": {
   "name": "python"
  }
 },
 "nbformat": 4,
 "nbformat_minor": 0
}
