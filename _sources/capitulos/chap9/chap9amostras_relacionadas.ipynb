{
 "cells": [
  {
   "cell_type": "markdown",
   "metadata": {
    "id": "P4vMNqO3iTuE"
   },
   "source": [
    "### Este notebook exemplo utiliza [markdown](https://github.com/adam-p/markdown-here/wiki/Markdown-Cheatsheet) para formatação do texto, e [LaTeX](https://en.wikibooks.org/wiki/LaTeX/Mathematics) para criação de fórmulas matemáticas."
   ]
  },
  {
   "cell_type": "markdown",
   "metadata": {
    "id": "czUTd3E8Jabt"
   },
   "source": [
    "**Exemplo 9.1** - Uma distribuidora de combustíveis deseja verificar se um novo tipo\n",
    "de gasolina é eficaz na revitalização de motores velhos. Com esse\n",
    "objetivo, seleciona 12 automóveis de um mesmo modelo com mais\n",
    "de 8 anos de uso e, após regulagem de seus motores, verifica o\n",
    "consumo de combustível. Em seguida o carro é abastecido com o\n",
    "novo tipo de combustível durante 15 semanas, e uma nova aferição\n",
    "do consumo é feita. O novo combustível é eficaz na melhora do\n",
    "rendimento? Conclua com $\\alpha = 0.05$.\n",
    "\n",
    "| Autom  | 1  | 2  | 3  | 4  | 5  | 6  | 7  | 8  | 9  | 10  | 11  |12  |\n",
    "| --- | --- | --- | --- | --- | --- | --- | --- | --- | --- | --- | --- | --- |\n",
    "| Após (Y)  | 11.6  | 8.8  | 9.9  | 9.5  | 11.6  | 9.1  | 10.6  | 10.8  | 13.4  | 10.6  | 10.5  |11.4  |\n",
    "| Antes (X)  | 8.1  | 7.9  | 6.8  | 7.8  | 7.6  | 7.9  | 5.7  | 8.4  | 8.0  | 9.5  | 8.0  | 6.8  |"
   ]
  },
  {
   "cell_type": "markdown",
   "metadata": {
    "id": "LewTLCEaL0eG"
   },
   "source": [
    "**1** - Estabelecer as hipóóteses nula e alternativa:\n",
    "\n",
    "$H_0: \\mu_D = 0$\n",
    "\n",
    "$H_a: \\mu_D > 0$\n",
    "\n",
    "$D_i = Y_i - X_i$"
   ]
  },
  {
   "cell_type": "code",
   "execution_count": null,
   "metadata": {
    "id": "KtvKMHUrHqS_"
   },
   "outputs": [],
   "source": [
    "import numpy as np\n",
    "\n",
    "y = np.array([11.6, 8.8, 9.9, 9.5, 11.6, 9.1, 10.6, 10.8, 13.4, 10.6, 10.5, 11.4])\n",
    "x = np.array([8.1, 7.9, 6.8, 7.8, 7.6, 7.9, 5.7, 8.4, 8.0, 9.5, 8.0, 6.8])"
   ]
  },
  {
   "cell_type": "code",
   "execution_count": null,
   "metadata": {
    "colab": {
     "base_uri": "https://localhost:8080/"
    },
    "id": "E1KynxUJM5ka",
    "outputId": "3813ffe5-38ab-4468-d735-350899171bfe"
   },
   "outputs": [
    {
     "data": {
      "text/plain": [
       "array([11.6,  8.8,  9.9,  9.5, 11.6,  9.1, 10.6, 10.8, 13.4, 10.6, 10.5,\n",
       "       11.4])"
      ]
     },
     "execution_count": 2,
     "metadata": {
      "tags": []
     },
     "output_type": "execute_result"
    }
   ],
   "source": [
    "y"
   ]
  },
  {
   "cell_type": "code",
   "execution_count": null,
   "metadata": {
    "colab": {
     "base_uri": "https://localhost:8080/"
    },
    "id": "xSbVEXB7M6-Z",
    "outputId": "f138d9f6-7a31-4b9a-de1d-d3e29eea7bc5"
   },
   "outputs": [
    {
     "data": {
      "text/plain": [
       "array([8.1, 7.9, 6.8, 7.8, 7.6, 7.9, 5.7, 8.4, 8. , 9.5, 8. , 6.8])"
      ]
     },
     "execution_count": 3,
     "metadata": {
      "tags": []
     },
     "output_type": "execute_result"
    }
   ],
   "source": [
    "x"
   ]
  },
  {
   "cell_type": "code",
   "execution_count": null,
   "metadata": {
    "colab": {
     "base_uri": "https://localhost:8080/"
    },
    "id": "64ouMJ15M7kY",
    "outputId": "478a1122-ef77-4483-b41f-b65bd99eac99"
   },
   "outputs": [
    {
     "data": {
      "text/plain": [
       "7.708333333333333"
      ]
     },
     "execution_count": 4,
     "metadata": {
      "tags": []
     },
     "output_type": "execute_result"
    }
   ],
   "source": [
    "x.mean()"
   ]
  },
  {
   "cell_type": "code",
   "execution_count": null,
   "metadata": {
    "colab": {
     "base_uri": "https://localhost:8080/"
    },
    "id": "zjno-oDgM-X2",
    "outputId": "7134c5a6-f75f-4e50-faeb-bda99b59979c"
   },
   "outputs": [
    {
     "data": {
      "text/plain": [
       "0.903196484099052"
      ]
     },
     "execution_count": 5,
     "metadata": {
      "tags": []
     },
     "output_type": "execute_result"
    }
   ],
   "source": [
    "x.std()"
   ]
  },
  {
   "cell_type": "code",
   "execution_count": null,
   "metadata": {
    "colab": {
     "base_uri": "https://localhost:8080/"
    },
    "id": "W9nzkdK0NBWk",
    "outputId": "b5505683-725b-4d08-a83a-24e04213d598"
   },
   "outputs": [
    {
     "data": {
      "text/plain": [
       "array([ 0.39166667,  0.19166667, -0.90833333,  0.09166667, -0.10833333,\n",
       "        0.19166667, -2.00833333,  0.69166667,  0.29166667,  1.79166667,\n",
       "        0.29166667, -0.90833333])"
      ]
     },
     "execution_count": 6,
     "metadata": {
      "tags": []
     },
     "output_type": "execute_result"
    }
   ],
   "source": [
    "x-x.mean()"
   ]
  },
  {
   "cell_type": "code",
   "execution_count": null,
   "metadata": {
    "colab": {
     "base_uri": "https://localhost:8080/"
    },
    "id": "flguHHKhNFcF",
    "outputId": "cb535d14-eca3-406e-a8e8-70997cafaffd"
   },
   "outputs": [
    {
     "data": {
      "text/plain": [
       "array([0.15340278, 0.03673611, 0.82506944, 0.00840278, 0.01173611,\n",
       "       0.03673611, 4.03340278, 0.47840278, 0.08506944, 3.21006944,\n",
       "       0.08506944, 0.82506944])"
      ]
     },
     "execution_count": 7,
     "metadata": {
      "tags": []
     },
     "output_type": "execute_result"
    }
   ],
   "source": [
    "(x-x.mean())**2"
   ]
  },
  {
   "cell_type": "code",
   "execution_count": null,
   "metadata": {
    "colab": {
     "base_uri": "https://localhost:8080/"
    },
    "id": "-GSi44TZNJXc",
    "outputId": "a6d2c33e-104b-4259-f260-85b010c6a7be"
   },
   "outputs": [
    {
     "data": {
      "text/plain": [
       "9.789166666666668"
      ]
     },
     "execution_count": 8,
     "metadata": {
      "tags": []
     },
     "output_type": "execute_result"
    }
   ],
   "source": [
    "sum((x-x.mean())**2)"
   ]
  },
  {
   "cell_type": "code",
   "execution_count": null,
   "metadata": {
    "colab": {
     "base_uri": "https://localhost:8080/"
    },
    "id": "_7NICEd9NMkT",
    "outputId": "d1401cde-f252-4376-b0a9-7cbeb4746f80"
   },
   "outputs": [
    {
     "data": {
      "text/plain": [
       "0.8899242424242426"
      ]
     },
     "execution_count": 9,
     "metadata": {
      "tags": []
     },
     "output_type": "execute_result"
    }
   ],
   "source": [
    "sum((x-x.mean())**2)/(len(x)-1)"
   ]
  },
  {
   "cell_type": "code",
   "execution_count": null,
   "metadata": {
    "colab": {
     "base_uri": "https://localhost:8080/"
    },
    "id": "yR54UntYNQvg",
    "outputId": "f9a962a8-5bf4-4589-ad82-3651f9a23261"
   },
   "outputs": [
    {
     "data": {
      "text/plain": [
       "0.9433579609163442"
      ]
     },
     "execution_count": 10,
     "metadata": {
      "tags": []
     },
     "output_type": "execute_result"
    }
   ],
   "source": [
    "np.sqrt(sum((x-x.mean())**2)/(len(x)-1))"
   ]
  },
  {
   "cell_type": "code",
   "execution_count": null,
   "metadata": {
    "colab": {
     "base_uri": "https://localhost:8080/"
    },
    "id": "rKHCkYGCNYYd",
    "outputId": "3bf9036a-601f-4f13-cb88-bc9f053e0098"
   },
   "outputs": [
    {
     "data": {
      "text/plain": [
       "0.903196484099052"
      ]
     },
     "execution_count": 11,
     "metadata": {
      "tags": []
     },
     "output_type": "execute_result"
    }
   ],
   "source": [
    "np.sqrt(sum((x-x.mean())**2)/len(x))"
   ]
  },
  {
   "cell_type": "code",
   "execution_count": null,
   "metadata": {
    "id": "QYaQJtq2NoGd"
   },
   "outputs": [],
   "source": [
    "import matplotlib.pyplot as plt"
   ]
  },
  {
   "cell_type": "code",
   "execution_count": null,
   "metadata": {
    "colab": {
     "base_uri": "https://localhost:8080/",
     "height": 318
    },
    "id": "bO0X9P85N6VF",
    "outputId": "dde9b599-2aa4-4b3c-8673-7b18424832d6"
   },
   "outputs": [
    {
     "data": {
      "text/plain": [
       "([<matplotlib.axis.XTick at 0x7f5120a835d0>,\n",
       "  <matplotlib.axis.XTick at 0x7f5120a83810>],\n",
       " [Text(0, 0, 'Antes'), Text(0, 0, 'Após')])"
      ]
     },
     "execution_count": 16,
     "metadata": {
      "tags": []
     },
     "output_type": "execute_result"
    },
    {
     "data": {
      "image/png": "[encoded data removed]",
      "text/plain": [
       "<Figure size 432x288 with 1 Axes>"
      ]
     },
     "metadata": {
      "needs_background": "light",
      "tags": []
     },
     "output_type": "display_data"
    }
   ],
   "source": [
    "plt.boxplot([x, y])\n",
    "plt.xticks([1, 2], ['Antes', 'Após'])"
   ]
  },
  {
   "cell_type": "markdown",
   "metadata": {
    "id": "kUlIE3RsR8cs"
   },
   "source": [
    "**2** - Definir a forma da região crítica, com base na hipótese alternativa.\n",
    "\n",
    "$RC = \\{ t \\in R \\mid t > t_c\\}$"
   ]
  },
  {
   "cell_type": "markdown",
   "metadata": {
    "id": "xN9wLZwrSyMH"
   },
   "source": [
    "**3** - Identificar a distribuição do estimador e obter sua estimativa."
   ]
  },
  {
   "cell_type": "code",
   "execution_count": null,
   "metadata": {
    "colab": {
     "base_uri": "https://localhost:8080/"
    },
    "id": "sEKmpizhOCBM",
    "outputId": "6a80aa35-16c0-417f-b57a-f6fb68cbdfec"
   },
   "outputs": [
    {
     "data": {
      "text/plain": [
       "array([3.5, 0.9, 3.1, 1.7, 4. , 1.2, 4.9, 2.4, 5.4, 1.1, 2.5, 4.6])"
      ]
     },
     "execution_count": 17,
     "metadata": {
      "tags": []
     },
     "output_type": "execute_result"
    }
   ],
   "source": [
    "d = y-x\n",
    "d"
   ]
  },
  {
   "cell_type": "code",
   "execution_count": null,
   "metadata": {
    "colab": {
     "base_uri": "https://localhost:8080/"
    },
    "id": "V4PFQbmRTSDj",
    "outputId": "cd058606-1d94-4823-bff9-e9df3e41b635"
   },
   "outputs": [
    {
     "name": "stdout",
     "output_type": "stream",
     "text": [
      "Média: 2.941666666666667\n",
      "Variância: 2.4281060606060607\n"
     ]
    }
   ],
   "source": [
    "d_obs = d.mean()\n",
    "s2_obs = sum((d-d.mean())**2)/(len(x)-1)\n",
    "\n",
    "print(\"Média:\", d_obs)\n",
    "print(\"Variância:\", s2_obs)"
   ]
  },
  {
   "cell_type": "markdown",
   "metadata": {
    "id": "NelY2JM3VPbj"
   },
   "source": [
    "**4** - Fixar o $\\alpha$ e obter a região críítica.\n",
    "\n",
    "$t_{n-1} = t_{11}$\n",
    "\n",
    "$t_{obs} = \\frac{\\bar{d}_{obs}-\\mu_D}{S_{D_{obs}}/\\sqrt{n}}$"
   ]
  },
  {
   "cell_type": "code",
   "execution_count": null,
   "metadata": {
    "colab": {
     "base_uri": "https://localhost:8080/"
    },
    "id": "H3awIwL5UVMa",
    "outputId": "0364f0c8-9756-4a2b-ac6b-ff358c189cc4"
   },
   "outputs": [
    {
     "name": "stdout",
     "output_type": "stream",
     "text": [
      "t observado: 6.53958600696017\n"
     ]
    }
   ],
   "source": [
    "t_obs = (d_obs-0)/np.sqrt(s2_obs/12)\n",
    "print(\"t observado:\", t_obs)"
   ]
  },
  {
   "cell_type": "markdown",
   "metadata": {
    "id": "NV7jjHyzd3be"
   },
   "source": [
    "**5** - Concluir o teste com base na estimativa e na região crítica."
   ]
  },
  {
   "cell_type": "code",
   "execution_count": null,
   "metadata": {
    "id": "29dlfnwiW4f_"
   },
   "outputs": [],
   "source": [
    "from scipy import stats"
   ]
  },
  {
   "cell_type": "code",
   "execution_count": null,
   "metadata": {
    "id": "5i9bwvnOYFJZ"
   },
   "outputs": [],
   "source": [
    "# https://docs.scipy.org/doc/scipy/reference/generated/scipy.stats.t.html\n",
    "tdist = stats.t(11)"
   ]
  },
  {
   "cell_type": "code",
   "execution_count": null,
   "metadata": {
    "colab": {
     "base_uri": "https://localhost:8080/"
    },
    "id": "EMLBOAKbYdP6",
    "outputId": "dc2cf808-c196-4082-c163-d2dc1f92ea29"
   },
   "outputs": [
    {
     "data": {
      "text/plain": [
       "1.7958848187036691"
      ]
     },
     "execution_count": 32,
     "metadata": {
      "tags": []
     },
     "output_type": "execute_result"
    }
   ],
   "source": [
    "tdist.ppf(0.95)"
   ]
  },
  {
   "cell_type": "code",
   "execution_count": null,
   "metadata": {
    "colab": {
     "base_uri": "https://localhost:8080/"
    },
    "id": "HeAobb6fZgpa",
    "outputId": "cb7fd868-081c-47d1-9815-69dde14112d4"
   },
   "outputs": [
    {
     "data": {
      "text/plain": [
       "Ttest_relResult(statistic=6.539586006960168, pvalue=4.194603259445353e-05)"
      ]
     },
     "execution_count": 39,
     "metadata": {
      "tags": []
     },
     "output_type": "execute_result"
    }
   ],
   "source": [
    "# Calcular o t-test apropriado pela biblioteca scipy\n",
    "stats.ttest_rel(y, x)"
   ]
  },
  {
   "cell_type": "code",
   "execution_count": null,
   "metadata": {
    "colab": {
     "base_uri": "https://localhost:8080/"
    },
    "id": "mffs440PayiK",
    "outputId": "cba967df-7b88-45d6-d093-769d07c0a810"
   },
   "outputs": [
    {
     "name": "stdout",
     "output_type": "stream",
     "text": [
      "pvalue= 2.0003750316632818e-05\n"
     ]
    }
   ],
   "source": [
    "print('pvalue=', 1-tdist.cdf(t_obs))"
   ]
  },
  {
   "cell_type": "code",
   "execution_count": null,
   "metadata": {
    "colab": {
     "base_uri": "https://localhost:8080/"
    },
    "id": "wLBbLCv1bC8b",
    "outputId": "99990fa3-f9b4-441a-a898-60aacaa54393"
   },
   "outputs": [
    {
     "data": {
      "text/plain": [
       "2.0973016297226766e-05"
      ]
     },
     "execution_count": 41,
     "metadata": {
      "tags": []
     },
     "output_type": "execute_result"
    }
   ],
   "source": [
    "stats.ttest_rel(y, x)[1]/2"
   ]
  }
 ],
 "metadata": {
  "colab": {
   "provenance": []
  },
  "kernelspec": {
   "display_name": "Python 3 (ipykernel)",
   "language": "python",
   "name": "python3"
  },
  "language_info": {
   "codemirror_mode": {
    "name": "ipython",
    "version": 3
   },
   "file_extension": ".py",
   "mimetype": "text/x-python",
   "name": "python",
   "nbconvert_exporter": "python",
   "pygments_lexer": "ipython3",
   "version": "3.9.19"
  }
 },
 "nbformat": 4,
 "nbformat_minor": 4
}
